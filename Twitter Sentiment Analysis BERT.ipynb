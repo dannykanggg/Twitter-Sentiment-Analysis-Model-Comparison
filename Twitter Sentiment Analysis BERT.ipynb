{
 "cells": [
  {
   "cell_type": "markdown",
   "id": "fbd1e12e",
   "metadata": {},
   "source": [
    "# Import Libraries"
   ]
  },
  {
   "cell_type": "code",
   "execution_count": 88,
   "id": "6a083008",
   "metadata": {},
   "outputs": [],
   "source": [
    "import pandas as pd\n",
    "pd.set_option('display.max_columns',None)\n",
    "import numpy as np\n",
    "import re\n",
    "import nltk\n",
    "from sklearn.model_selection import train_test_split\n",
    "from sklearn.metrics import accuracy_score, precision_recall_curve, confusion_matrix\n",
    "import matplotlib.pyplot as plt\n",
    "import seaborn as sns"
   ]
  },
  {
   "cell_type": "markdown",
   "id": "38d4ebe6",
   "metadata": {},
   "source": [
    "Download necessary libraries"
   ]
  },
  {
   "cell_type": "code",
   "execution_count": 5,
   "id": "ce69fa6a",
   "metadata": {},
   "outputs": [],
   "source": [
    "#nltk.download('wordnet')\n",
    "#nltk.download('omw-1.4')\n",
    "#nltk.download('vader_lexicon')"
   ]
  },
  {
   "cell_type": "markdown",
   "id": "f7375813",
   "metadata": {},
   "source": [
    "## Read Data"
   ]
  },
  {
   "cell_type": "code",
   "execution_count": 6,
   "id": "d38bf355",
   "metadata": {},
   "outputs": [],
   "source": [
    "train_df = pd.read_csv(\"../data/Twitter/twitter_training.csv\",header=None)\n",
    "test_df = pd.read_csv(\"../data/Twitter/twitter_validation.csv\",header=None)\n",
    "train_df.columns = ['number','topic','sentiment','tweet']\n",
    "test_df.columns = ['number','topic','sentiment','tweet']"
   ]
  },
  {
   "cell_type": "code",
   "execution_count": 7,
   "id": "f165dfae",
   "metadata": {
    "scrolled": true
   },
   "outputs": [
    {
     "data": {
      "text/html": [
       "<div>\n",
       "<style scoped>\n",
       "    .dataframe tbody tr th:only-of-type {\n",
       "        vertical-align: middle;\n",
       "    }\n",
       "\n",
       "    .dataframe tbody tr th {\n",
       "        vertical-align: top;\n",
       "    }\n",
       "\n",
       "    .dataframe thead th {\n",
       "        text-align: right;\n",
       "    }\n",
       "</style>\n",
       "<table border=\"1\" class=\"dataframe\">\n",
       "  <thead>\n",
       "    <tr style=\"text-align: right;\">\n",
       "      <th></th>\n",
       "      <th>number</th>\n",
       "      <th>topic</th>\n",
       "      <th>sentiment</th>\n",
       "      <th>tweet</th>\n",
       "    </tr>\n",
       "  </thead>\n",
       "  <tbody>\n",
       "    <tr>\n",
       "      <th>0</th>\n",
       "      <td>2401</td>\n",
       "      <td>Borderlands</td>\n",
       "      <td>Positive</td>\n",
       "      <td>im getting on borderlands and i will murder yo...</td>\n",
       "    </tr>\n",
       "    <tr>\n",
       "      <th>1</th>\n",
       "      <td>2401</td>\n",
       "      <td>Borderlands</td>\n",
       "      <td>Positive</td>\n",
       "      <td>I am coming to the borders and I will kill you...</td>\n",
       "    </tr>\n",
       "    <tr>\n",
       "      <th>2</th>\n",
       "      <td>2401</td>\n",
       "      <td>Borderlands</td>\n",
       "      <td>Positive</td>\n",
       "      <td>im getting on borderlands and i will kill you ...</td>\n",
       "    </tr>\n",
       "    <tr>\n",
       "      <th>3</th>\n",
       "      <td>2401</td>\n",
       "      <td>Borderlands</td>\n",
       "      <td>Positive</td>\n",
       "      <td>im coming on borderlands and i will murder you...</td>\n",
       "    </tr>\n",
       "    <tr>\n",
       "      <th>4</th>\n",
       "      <td>2401</td>\n",
       "      <td>Borderlands</td>\n",
       "      <td>Positive</td>\n",
       "      <td>im getting on borderlands 2 and i will murder ...</td>\n",
       "    </tr>\n",
       "  </tbody>\n",
       "</table>\n",
       "</div>"
      ],
      "text/plain": [
       "   number        topic sentiment  \\\n",
       "0    2401  Borderlands  Positive   \n",
       "1    2401  Borderlands  Positive   \n",
       "2    2401  Borderlands  Positive   \n",
       "3    2401  Borderlands  Positive   \n",
       "4    2401  Borderlands  Positive   \n",
       "\n",
       "                                               tweet  \n",
       "0  im getting on borderlands and i will murder yo...  \n",
       "1  I am coming to the borders and I will kill you...  \n",
       "2  im getting on borderlands and i will kill you ...  \n",
       "3  im coming on borderlands and i will murder you...  \n",
       "4  im getting on borderlands 2 and i will murder ...  "
      ]
     },
     "execution_count": 7,
     "metadata": {},
     "output_type": "execute_result"
    }
   ],
   "source": [
    "train_df.head()"
   ]
  },
  {
   "cell_type": "code",
   "execution_count": 8,
   "id": "f3d08c83",
   "metadata": {},
   "outputs": [
    {
     "data": {
      "text/html": [
       "<div>\n",
       "<style scoped>\n",
       "    .dataframe tbody tr th:only-of-type {\n",
       "        vertical-align: middle;\n",
       "    }\n",
       "\n",
       "    .dataframe tbody tr th {\n",
       "        vertical-align: top;\n",
       "    }\n",
       "\n",
       "    .dataframe thead th {\n",
       "        text-align: right;\n",
       "    }\n",
       "</style>\n",
       "<table border=\"1\" class=\"dataframe\">\n",
       "  <thead>\n",
       "    <tr style=\"text-align: right;\">\n",
       "      <th></th>\n",
       "      <th>number</th>\n",
       "      <th>topic</th>\n",
       "      <th>sentiment</th>\n",
       "      <th>tweet</th>\n",
       "    </tr>\n",
       "  </thead>\n",
       "  <tbody>\n",
       "    <tr>\n",
       "      <th>0</th>\n",
       "      <td>3364</td>\n",
       "      <td>Facebook</td>\n",
       "      <td>Irrelevant</td>\n",
       "      <td>I mentioned on Facebook that I was struggling ...</td>\n",
       "    </tr>\n",
       "    <tr>\n",
       "      <th>1</th>\n",
       "      <td>352</td>\n",
       "      <td>Amazon</td>\n",
       "      <td>Neutral</td>\n",
       "      <td>BBC News - Amazon boss Jeff Bezos rejects clai...</td>\n",
       "    </tr>\n",
       "    <tr>\n",
       "      <th>2</th>\n",
       "      <td>8312</td>\n",
       "      <td>Microsoft</td>\n",
       "      <td>Negative</td>\n",
       "      <td>@Microsoft Why do I pay for WORD when it funct...</td>\n",
       "    </tr>\n",
       "    <tr>\n",
       "      <th>3</th>\n",
       "      <td>4371</td>\n",
       "      <td>CS-GO</td>\n",
       "      <td>Negative</td>\n",
       "      <td>CSGO matchmaking is so full of closet hacking,...</td>\n",
       "    </tr>\n",
       "    <tr>\n",
       "      <th>4</th>\n",
       "      <td>4433</td>\n",
       "      <td>Google</td>\n",
       "      <td>Neutral</td>\n",
       "      <td>Now the President is slapping Americans in the...</td>\n",
       "    </tr>\n",
       "  </tbody>\n",
       "</table>\n",
       "</div>"
      ],
      "text/plain": [
       "   number      topic   sentiment  \\\n",
       "0    3364   Facebook  Irrelevant   \n",
       "1     352     Amazon     Neutral   \n",
       "2    8312  Microsoft    Negative   \n",
       "3    4371      CS-GO    Negative   \n",
       "4    4433     Google     Neutral   \n",
       "\n",
       "                                               tweet  \n",
       "0  I mentioned on Facebook that I was struggling ...  \n",
       "1  BBC News - Amazon boss Jeff Bezos rejects clai...  \n",
       "2  @Microsoft Why do I pay for WORD when it funct...  \n",
       "3  CSGO matchmaking is so full of closet hacking,...  \n",
       "4  Now the President is slapping Americans in the...  "
      ]
     },
     "execution_count": 8,
     "metadata": {},
     "output_type": "execute_result"
    }
   ],
   "source": [
    "test_df.head()"
   ]
  },
  {
   "cell_type": "markdown",
   "id": "8053a4d1",
   "metadata": {},
   "source": [
    "## Short Data Summary"
   ]
  },
  {
   "cell_type": "code",
   "execution_count": 9,
   "id": "e1242510",
   "metadata": {},
   "outputs": [
    {
     "data": {
      "text/plain": [
       "((74682, 4), (1000, 4))"
      ]
     },
     "execution_count": 9,
     "metadata": {},
     "output_type": "execute_result"
    }
   ],
   "source": [
    "train_df.shape, test_df.shape"
   ]
  },
  {
   "cell_type": "code",
   "execution_count": 10,
   "id": "a8351b54",
   "metadata": {},
   "outputs": [
    {
     "data": {
      "text/plain": [
       "(array(['Positive', 'Neutral', 'Negative', 'Irrelevant'], dtype=object),\n",
       " array(['Irrelevant', 'Neutral', 'Negative', 'Positive'], dtype=object))"
      ]
     },
     "execution_count": 10,
     "metadata": {},
     "output_type": "execute_result"
    }
   ],
   "source": [
    "train_df.sentiment.unique(), test_df.sentiment.unique()"
   ]
  },
  {
   "cell_type": "code",
   "execution_count": 11,
   "id": "6699e7b0",
   "metadata": {},
   "outputs": [
    {
     "data": {
      "text/html": [
       "<div>\n",
       "<style scoped>\n",
       "    .dataframe tbody tr th:only-of-type {\n",
       "        vertical-align: middle;\n",
       "    }\n",
       "\n",
       "    .dataframe tbody tr th {\n",
       "        vertical-align: top;\n",
       "    }\n",
       "\n",
       "    .dataframe thead th {\n",
       "        text-align: right;\n",
       "    }\n",
       "</style>\n",
       "<table border=\"1\" class=\"dataframe\">\n",
       "  <thead>\n",
       "    <tr style=\"text-align: right;\">\n",
       "      <th></th>\n",
       "      <th>number</th>\n",
       "      <th>topic</th>\n",
       "      <th>tweet</th>\n",
       "    </tr>\n",
       "    <tr>\n",
       "      <th>sentiment</th>\n",
       "      <th></th>\n",
       "      <th></th>\n",
       "      <th></th>\n",
       "    </tr>\n",
       "  </thead>\n",
       "  <tbody>\n",
       "    <tr>\n",
       "      <th>Irrelevant</th>\n",
       "      <td>12990</td>\n",
       "      <td>12990</td>\n",
       "      <td>12875</td>\n",
       "    </tr>\n",
       "    <tr>\n",
       "      <th>Negative</th>\n",
       "      <td>22542</td>\n",
       "      <td>22542</td>\n",
       "      <td>22358</td>\n",
       "    </tr>\n",
       "    <tr>\n",
       "      <th>Neutral</th>\n",
       "      <td>18318</td>\n",
       "      <td>18318</td>\n",
       "      <td>18108</td>\n",
       "    </tr>\n",
       "    <tr>\n",
       "      <th>Positive</th>\n",
       "      <td>20832</td>\n",
       "      <td>20832</td>\n",
       "      <td>20655</td>\n",
       "    </tr>\n",
       "  </tbody>\n",
       "</table>\n",
       "</div>"
      ],
      "text/plain": [
       "            number  topic  tweet\n",
       "sentiment                       \n",
       "Irrelevant   12990  12990  12875\n",
       "Negative     22542  22542  22358\n",
       "Neutral      18318  18318  18108\n",
       "Positive     20832  20832  20655"
      ]
     },
     "execution_count": 11,
     "metadata": {},
     "output_type": "execute_result"
    }
   ],
   "source": [
    "train_df.groupby(\"sentiment\").count()"
   ]
  },
  {
   "cell_type": "code",
   "execution_count": 12,
   "id": "05db6a41",
   "metadata": {
    "scrolled": false
   },
   "outputs": [
    {
     "data": {
      "image/png": "[encoded data removed]",
      "text/plain": [
       "<Figure size 864x576 with 1 Axes>"
      ]
     },
     "metadata": {
      "needs_background": "light"
     },
     "output_type": "display_data"
    }
   ],
   "source": [
    "fig,ax = plt.subplots(figsize=(12,8))\n",
    "sns.barplot(data=train_df.groupby('sentiment').count().reset_index(), x='sentiment', y='tweet',ax = ax)\n",
    "plt.title(\"Train Data\")\n",
    "plt.show()\n",
    "plt.close()"
   ]
  },
  {
   "cell_type": "code",
   "execution_count": 13,
   "id": "28844ea9",
   "metadata": {},
   "outputs": [
    {
     "data": {
      "image/png": "[encoded data removed]",
      "text/plain": [
       "<Figure size 864x576 with 1 Axes>"
      ]
     },
     "metadata": {
      "needs_background": "light"
     },
     "output_type": "display_data"
    }
   ],
   "source": [
    "fig,ax = plt.subplots(figsize=(12,8))\n",
    "sns.barplot(data=test_df.groupby('sentiment').count().reset_index(), x='sentiment', y='tweet',ax = ax)\n",
    "plt.title(\"Test Data\")\n",
    "plt.show()\n",
    "plt.close()"
   ]
  },
  {
   "cell_type": "markdown",
   "id": "5b0b4a55",
   "metadata": {},
   "source": [
    "### Data Preprocessing - encode sentiment // keep only sentiment &tweet"
   ]
  },
  {
   "cell_type": "code",
   "execution_count": 14,
   "id": "77a3c36b",
   "metadata": {
    "scrolled": false
   },
   "outputs": [
    {
     "data": {
      "text/html": [
       "<div>\n",
       "<style scoped>\n",
       "    .dataframe tbody tr th:only-of-type {\n",
       "        vertical-align: middle;\n",
       "    }\n",
       "\n",
       "    .dataframe tbody tr th {\n",
       "        vertical-align: top;\n",
       "    }\n",
       "\n",
       "    .dataframe thead th {\n",
       "        text-align: right;\n",
       "    }\n",
       "</style>\n",
       "<table border=\"1\" class=\"dataframe\">\n",
       "  <thead>\n",
       "    <tr style=\"text-align: right;\">\n",
       "      <th></th>\n",
       "      <th>number</th>\n",
       "      <th>topic</th>\n",
       "      <th>sentiment</th>\n",
       "      <th>tweet</th>\n",
       "    </tr>\n",
       "  </thead>\n",
       "  <tbody>\n",
       "    <tr>\n",
       "      <th>0</th>\n",
       "      <td>2401</td>\n",
       "      <td>Borderlands</td>\n",
       "      <td>Positive</td>\n",
       "      <td>im getting on borderlands and i will murder yo...</td>\n",
       "    </tr>\n",
       "    <tr>\n",
       "      <th>1</th>\n",
       "      <td>2401</td>\n",
       "      <td>Borderlands</td>\n",
       "      <td>Positive</td>\n",
       "      <td>I am coming to the borders and I will kill you...</td>\n",
       "    </tr>\n",
       "    <tr>\n",
       "      <th>2</th>\n",
       "      <td>2401</td>\n",
       "      <td>Borderlands</td>\n",
       "      <td>Positive</td>\n",
       "      <td>im getting on borderlands and i will kill you ...</td>\n",
       "    </tr>\n",
       "    <tr>\n",
       "      <th>3</th>\n",
       "      <td>2401</td>\n",
       "      <td>Borderlands</td>\n",
       "      <td>Positive</td>\n",
       "      <td>im coming on borderlands and i will murder you...</td>\n",
       "    </tr>\n",
       "    <tr>\n",
       "      <th>4</th>\n",
       "      <td>2401</td>\n",
       "      <td>Borderlands</td>\n",
       "      <td>Positive</td>\n",
       "      <td>im getting on borderlands 2 and i will murder ...</td>\n",
       "    </tr>\n",
       "  </tbody>\n",
       "</table>\n",
       "</div>"
      ],
      "text/plain": [
       "   number        topic sentiment  \\\n",
       "0    2401  Borderlands  Positive   \n",
       "1    2401  Borderlands  Positive   \n",
       "2    2401  Borderlands  Positive   \n",
       "3    2401  Borderlands  Positive   \n",
       "4    2401  Borderlands  Positive   \n",
       "\n",
       "                                               tweet  \n",
       "0  im getting on borderlands and i will murder yo...  \n",
       "1  I am coming to the borders and I will kill you...  \n",
       "2  im getting on borderlands and i will kill you ...  \n",
       "3  im coming on borderlands and i will murder you...  \n",
       "4  im getting on borderlands 2 and i will murder ...  "
      ]
     },
     "execution_count": 14,
     "metadata": {},
     "output_type": "execute_result"
    }
   ],
   "source": [
    "train_df.head()"
   ]
  },
  {
   "cell_type": "code",
   "execution_count": 15,
   "id": "89848367",
   "metadata": {
    "scrolled": true
   },
   "outputs": [
    {
     "data": {
      "text/html": [
       "<div>\n",
       "<style scoped>\n",
       "    .dataframe tbody tr th:only-of-type {\n",
       "        vertical-align: middle;\n",
       "    }\n",
       "\n",
       "    .dataframe tbody tr th {\n",
       "        vertical-align: top;\n",
       "    }\n",
       "\n",
       "    .dataframe thead th {\n",
       "        text-align: right;\n",
       "    }\n",
       "</style>\n",
       "<table border=\"1\" class=\"dataframe\">\n",
       "  <thead>\n",
       "    <tr style=\"text-align: right;\">\n",
       "      <th></th>\n",
       "      <th>number</th>\n",
       "      <th>topic</th>\n",
       "      <th>sentiment</th>\n",
       "      <th>tweet</th>\n",
       "    </tr>\n",
       "  </thead>\n",
       "  <tbody>\n",
       "    <tr>\n",
       "      <th>0</th>\n",
       "      <td>3364</td>\n",
       "      <td>Facebook</td>\n",
       "      <td>Irrelevant</td>\n",
       "      <td>I mentioned on Facebook that I was struggling ...</td>\n",
       "    </tr>\n",
       "    <tr>\n",
       "      <th>1</th>\n",
       "      <td>352</td>\n",
       "      <td>Amazon</td>\n",
       "      <td>Neutral</td>\n",
       "      <td>BBC News - Amazon boss Jeff Bezos rejects clai...</td>\n",
       "    </tr>\n",
       "    <tr>\n",
       "      <th>2</th>\n",
       "      <td>8312</td>\n",
       "      <td>Microsoft</td>\n",
       "      <td>Negative</td>\n",
       "      <td>@Microsoft Why do I pay for WORD when it funct...</td>\n",
       "    </tr>\n",
       "    <tr>\n",
       "      <th>3</th>\n",
       "      <td>4371</td>\n",
       "      <td>CS-GO</td>\n",
       "      <td>Negative</td>\n",
       "      <td>CSGO matchmaking is so full of closet hacking,...</td>\n",
       "    </tr>\n",
       "    <tr>\n",
       "      <th>4</th>\n",
       "      <td>4433</td>\n",
       "      <td>Google</td>\n",
       "      <td>Neutral</td>\n",
       "      <td>Now the President is slapping Americans in the...</td>\n",
       "    </tr>\n",
       "  </tbody>\n",
       "</table>\n",
       "</div>"
      ],
      "text/plain": [
       "   number      topic   sentiment  \\\n",
       "0    3364   Facebook  Irrelevant   \n",
       "1     352     Amazon     Neutral   \n",
       "2    8312  Microsoft    Negative   \n",
       "3    4371      CS-GO    Negative   \n",
       "4    4433     Google     Neutral   \n",
       "\n",
       "                                               tweet  \n",
       "0  I mentioned on Facebook that I was struggling ...  \n",
       "1  BBC News - Amazon boss Jeff Bezos rejects clai...  \n",
       "2  @Microsoft Why do I pay for WORD when it funct...  \n",
       "3  CSGO matchmaking is so full of closet hacking,...  \n",
       "4  Now the President is slapping Americans in the...  "
      ]
     },
     "execution_count": 15,
     "metadata": {},
     "output_type": "execute_result"
    }
   ],
   "source": [
    "test_df.head()"
   ]
  },
  {
   "cell_type": "code",
   "execution_count": 16,
   "id": "645ff6b4",
   "metadata": {
    "scrolled": true
   },
   "outputs": [
    {
     "data": {
      "text/html": [
       "<div>\n",
       "<style scoped>\n",
       "    .dataframe tbody tr th:only-of-type {\n",
       "        vertical-align: middle;\n",
       "    }\n",
       "\n",
       "    .dataframe tbody tr th {\n",
       "        vertical-align: top;\n",
       "    }\n",
       "\n",
       "    .dataframe thead th {\n",
       "        text-align: right;\n",
       "    }\n",
       "</style>\n",
       "<table border=\"1\" class=\"dataframe\">\n",
       "  <thead>\n",
       "    <tr style=\"text-align: right;\">\n",
       "      <th></th>\n",
       "      <th>number</th>\n",
       "      <th>topic</th>\n",
       "      <th>tweet</th>\n",
       "    </tr>\n",
       "    <tr>\n",
       "      <th>sentiment</th>\n",
       "      <th></th>\n",
       "      <th></th>\n",
       "      <th></th>\n",
       "    </tr>\n",
       "  </thead>\n",
       "  <tbody>\n",
       "    <tr>\n",
       "      <th>Irrelevant</th>\n",
       "      <td>12990</td>\n",
       "      <td>12990</td>\n",
       "      <td>12875</td>\n",
       "    </tr>\n",
       "    <tr>\n",
       "      <th>Negative</th>\n",
       "      <td>22542</td>\n",
       "      <td>22542</td>\n",
       "      <td>22358</td>\n",
       "    </tr>\n",
       "    <tr>\n",
       "      <th>Neutral</th>\n",
       "      <td>18318</td>\n",
       "      <td>18318</td>\n",
       "      <td>18108</td>\n",
       "    </tr>\n",
       "    <tr>\n",
       "      <th>Positive</th>\n",
       "      <td>20832</td>\n",
       "      <td>20832</td>\n",
       "      <td>20655</td>\n",
       "    </tr>\n",
       "  </tbody>\n",
       "</table>\n",
       "</div>"
      ],
      "text/plain": [
       "            number  topic  tweet\n",
       "sentiment                       \n",
       "Irrelevant   12990  12990  12875\n",
       "Negative     22542  22542  22358\n",
       "Neutral      18318  18318  18108\n",
       "Positive     20832  20832  20655"
      ]
     },
     "execution_count": 16,
     "metadata": {},
     "output_type": "execute_result"
    }
   ],
   "source": [
    "train_df.groupby('sentiment').count()"
   ]
  },
  {
   "cell_type": "code",
   "execution_count": 17,
   "id": "67fdc41f",
   "metadata": {
    "scrolled": false
   },
   "outputs": [
    {
     "data": {
      "text/html": [
       "<div>\n",
       "<style scoped>\n",
       "    .dataframe tbody tr th:only-of-type {\n",
       "        vertical-align: middle;\n",
       "    }\n",
       "\n",
       "    .dataframe tbody tr th {\n",
       "        vertical-align: top;\n",
       "    }\n",
       "\n",
       "    .dataframe thead th {\n",
       "        text-align: right;\n",
       "    }\n",
       "</style>\n",
       "<table border=\"1\" class=\"dataframe\">\n",
       "  <thead>\n",
       "    <tr style=\"text-align: right;\">\n",
       "      <th></th>\n",
       "      <th>number</th>\n",
       "      <th>topic</th>\n",
       "      <th>tweet</th>\n",
       "    </tr>\n",
       "    <tr>\n",
       "      <th>sentiment</th>\n",
       "      <th></th>\n",
       "      <th></th>\n",
       "      <th></th>\n",
       "    </tr>\n",
       "  </thead>\n",
       "  <tbody>\n",
       "    <tr>\n",
       "      <th>Irrelevant</th>\n",
       "      <td>172</td>\n",
       "      <td>172</td>\n",
       "      <td>172</td>\n",
       "    </tr>\n",
       "    <tr>\n",
       "      <th>Negative</th>\n",
       "      <td>266</td>\n",
       "      <td>266</td>\n",
       "      <td>266</td>\n",
       "    </tr>\n",
       "    <tr>\n",
       "      <th>Neutral</th>\n",
       "      <td>285</td>\n",
       "      <td>285</td>\n",
       "      <td>285</td>\n",
       "    </tr>\n",
       "    <tr>\n",
       "      <th>Positive</th>\n",
       "      <td>277</td>\n",
       "      <td>277</td>\n",
       "      <td>277</td>\n",
       "    </tr>\n",
       "  </tbody>\n",
       "</table>\n",
       "</div>"
      ],
      "text/plain": [
       "            number  topic  tweet\n",
       "sentiment                       \n",
       "Irrelevant     172    172    172\n",
       "Negative       266    266    266\n",
       "Neutral        285    285    285\n",
       "Positive       277    277    277"
      ]
     },
     "execution_count": 17,
     "metadata": {},
     "output_type": "execute_result"
    }
   ],
   "source": [
    "test_df.groupby('sentiment').count()"
   ]
  },
  {
   "cell_type": "markdown",
   "id": "f19107d9",
   "metadata": {},
   "source": [
    "Delete Irrelevant tweets and encode sentiment into numerical. "
   ]
  },
  {
   "cell_type": "code",
   "execution_count": 18,
   "id": "d8e7636e",
   "metadata": {},
   "outputs": [],
   "source": [
    "def process_sentiment(df):\n",
    "    df = df[df['sentiment'].isin(['Positive','Negative','Neutral'])]\n",
    "    df.loc[df.sentiment=='Positive', 'sentiment'] = 2\n",
    "    df.loc[df.sentiment=='Neutral', 'sentiment'] = 1\n",
    "    df.loc[df.sentiment=='Negative', 'sentiment'] = 0\n",
    "    df['sentiment'] = df['sentiment'].astype(int)\n",
    "    #df.drop(['number','topic'],axis=1,inplace=True)\n",
    "    return df[['tweet','sentiment']]"
   ]
  },
  {
   "cell_type": "code",
   "execution_count": 19,
   "id": "5b447825",
   "metadata": {},
   "outputs": [
    {
     "name": "stderr",
     "output_type": "stream",
     "text": [
      "/Users/dannykang/opt/anaconda3/envs/webscrap/lib/python3.9/site-packages/pandas/core/indexing.py:1817: SettingWithCopyWarning: \n",
      "A value is trying to be set on a copy of a slice from a DataFrame.\n",
      "Try using .loc[row_indexer,col_indexer] = value instead\n",
      "\n",
      "See the caveats in the documentation: https://pandas.pydata.org/pandas-docs/stable/user_guide/indexing.html#returning-a-view-versus-a-copy\n",
      "  self._setitem_single_column(loc, value, pi)\n",
      "/var/folders/f7/frkz7fzd1hd5r3hc24670dnm0000gn/T/ipykernel_82194/3760496259.py:6: SettingWithCopyWarning: \n",
      "A value is trying to be set on a copy of a slice from a DataFrame.\n",
      "Try using .loc[row_indexer,col_indexer] = value instead\n",
      "\n",
      "See the caveats in the documentation: https://pandas.pydata.org/pandas-docs/stable/user_guide/indexing.html#returning-a-view-versus-a-copy\n",
      "  df['sentiment'] = df['sentiment'].astype(int)\n"
     ]
    }
   ],
   "source": [
    "train_df = process_sentiment(train_df)\n",
    "test_df = process_sentiment(test_df)"
   ]
  },
  {
   "cell_type": "code",
   "execution_count": 20,
   "id": "e47dfa57",
   "metadata": {
    "scrolled": true
   },
   "outputs": [
    {
     "data": {
      "text/plain": [
       "(array([2, 1, 0]), array([1, 0, 2]))"
      ]
     },
     "execution_count": 20,
     "metadata": {},
     "output_type": "execute_result"
    }
   ],
   "source": [
    "train_df['sentiment'].unique(), test_df['sentiment'].unique()"
   ]
  },
  {
   "cell_type": "markdown",
   "id": "256f37e2",
   "metadata": {},
   "source": [
    "# Tweet Processing"
   ]
  },
  {
   "cell_type": "code",
   "execution_count": 21,
   "id": "fe5ab257",
   "metadata": {},
   "outputs": [
    {
     "name": "stdout",
     "output_type": "stream",
     "text": [
      "<class 'pandas.core.frame.DataFrame'>\n",
      "Int64Index: 61692 entries, 0 to 74681\n",
      "Data columns (total 2 columns):\n",
      " #   Column     Non-Null Count  Dtype \n",
      "---  ------     --------------  ----- \n",
      " 0   tweet      61121 non-null  object\n",
      " 1   sentiment  61692 non-null  int64 \n",
      "dtypes: int64(1), object(1)\n",
      "memory usage: 1.4+ MB\n"
     ]
    }
   ],
   "source": [
    "train_df.info()"
   ]
  },
  {
   "cell_type": "code",
   "execution_count": 22,
   "id": "96fc3af8",
   "metadata": {
    "scrolled": true
   },
   "outputs": [
    {
     "name": "stdout",
     "output_type": "stream",
     "text": [
      "<class 'pandas.core.frame.DataFrame'>\n",
      "Int64Index: 828 entries, 1 to 999\n",
      "Data columns (total 2 columns):\n",
      " #   Column     Non-Null Count  Dtype \n",
      "---  ------     --------------  ----- \n",
      " 0   tweet      828 non-null    object\n",
      " 1   sentiment  828 non-null    int64 \n",
      "dtypes: int64(1), object(1)\n",
      "memory usage: 19.4+ KB\n"
     ]
    }
   ],
   "source": [
    "test_df.info()"
   ]
  },
  {
   "cell_type": "markdown",
   "id": "6a25c232",
   "metadata": {},
   "source": [
    "The dtype of the tweet column is object so there might be some Nan values which we'll have to get rid of"
   ]
  },
  {
   "cell_type": "code",
   "execution_count": 23,
   "id": "2e37ded9",
   "metadata": {},
   "outputs": [
    {
     "data": {
      "text/plain": [
       "(tweet        571\n",
       " sentiment      0\n",
       " dtype: int64,\n",
       " tweet        0\n",
       " sentiment    0\n",
       " dtype: int64)"
      ]
     },
     "execution_count": 23,
     "metadata": {},
     "output_type": "execute_result"
    }
   ],
   "source": [
    "train_df.isnull().sum(), test_df.isnull().sum()"
   ]
  },
  {
   "cell_type": "code",
   "execution_count": 24,
   "id": "d9046086",
   "metadata": {},
   "outputs": [
    {
     "data": {
      "text/plain": [
       "((61692, 2), (828, 2))"
      ]
     },
     "execution_count": 24,
     "metadata": {},
     "output_type": "execute_result"
    }
   ],
   "source": [
    "train_df.shape, test_df.shape"
   ]
  },
  {
   "cell_type": "code",
   "execution_count": 25,
   "id": "0f316e9a",
   "metadata": {},
   "outputs": [],
   "source": [
    "train_df = train_df[train_df.tweet.notnull()]\n",
    "test_df = test_df[test_df.tweet.notnull()]\n",
    "train_df['tweet'] = train_df['tweet'].astype(str)\n",
    "test_df['tweet'] = test_df['tweet'].astype(str)"
   ]
  },
  {
   "cell_type": "code",
   "execution_count": 26,
   "id": "6616aca4",
   "metadata": {
    "scrolled": true
   },
   "outputs": [
    {
     "data": {
      "text/plain": [
       "((61121, 2), (828, 2))"
      ]
     },
     "execution_count": 26,
     "metadata": {},
     "output_type": "execute_result"
    }
   ],
   "source": [
    "train_df.shape, test_df.shape"
   ]
  },
  {
   "cell_type": "code",
   "execution_count": 27,
   "id": "08687d35",
   "metadata": {},
   "outputs": [
    {
     "data": {
      "text/plain": [
       "(tweet        0\n",
       " sentiment    0\n",
       " dtype: int64,\n",
       " tweet        0\n",
       " sentiment    0\n",
       " dtype: int64)"
      ]
     },
     "execution_count": 27,
     "metadata": {},
     "output_type": "execute_result"
    }
   ],
   "source": [
    "train_df.isnull().sum(), test_df.isnull().sum()"
   ]
  },
  {
   "cell_type": "code",
   "execution_count": null,
   "id": "50f7d773",
   "metadata": {},
   "outputs": [],
   "source": []
  },
  {
   "cell_type": "code",
   "execution_count": 28,
   "id": "b35aa05e",
   "metadata": {},
   "outputs": [],
   "source": [
    "from tensorflow.keras.utils import to_categorical\n",
    "\n",
    "target = train_df.sentiment.values\n",
    "y_target = to_categorical(target)\n",
    "y_test = test_df['sentiment'].values\n",
    "\n",
    "# number of numerical values exist in y_target's column\n",
    "num_classes = y_target.shape[1]"
   ]
  },
  {
   "cell_type": "code",
   "execution_count": 29,
   "id": "938d8166",
   "metadata": {
    "scrolled": true
   },
   "outputs": [
    {
     "name": "stdout",
     "output_type": "stream",
     "text": [
      "3\n"
     ]
    }
   ],
   "source": [
    "print(num_classes)"
   ]
  },
  {
   "cell_type": "markdown",
   "id": "091097e4",
   "metadata": {},
   "source": [
    "# Train Test Split"
   ]
  },
  {
   "cell_type": "code",
   "execution_count": 30,
   "id": "2307c730",
   "metadata": {},
   "outputs": [],
   "source": [
    "from sklearn.model_selection import train_test_split\n",
    "X_train, X_val, y_train, y_val = train_test_split(train_df['tweet'],\n",
    "                                                  y_target,\n",
    "                                                  test_size = 0.2,\n",
    "                                                  stratify = train_df['sentiment'])"
   ]
  },
  {
   "cell_type": "code",
   "execution_count": 31,
   "id": "259fe546",
   "metadata": {},
   "outputs": [],
   "source": [
    "X_test = test_df['tweet']"
   ]
  },
  {
   "cell_type": "markdown",
   "id": "7e25ba79",
   "metadata": {},
   "source": [
    "# Model Parameters"
   ]
  },
  {
   "cell_type": "code",
   "execution_count": 32,
   "id": "c6dcbcc3",
   "metadata": {},
   "outputs": [],
   "source": [
    "num_epochs = 15\n",
    "# Max length of tokens\n",
    "max_token_length = 45\n",
    "batch_size = 64"
   ]
  },
  {
   "cell_type": "code",
   "execution_count": 33,
   "id": "a7f47b9f",
   "metadata": {},
   "outputs": [],
   "source": [
    "from tensorflow.keras import Input, Model\n",
    "from tensorflow.keras.layers import Dropout,Dense\n",
    "from tensorflow.keras.initializers import TruncatedNormal\n",
    "from tensorflow.keras.optimizers import Adam\n",
    "from tensorflow.keras.losses import CategoricalCrossentropy\n",
    "from tensorflow.keras.metrics import CategoricalAccuracy"
   ]
  },
  {
   "cell_type": "markdown",
   "id": "bd4a787c",
   "metadata": {},
   "source": [
    "# Bert Base Uncased"
   ]
  },
  {
   "cell_type": "code",
   "execution_count": 122,
   "id": "5f9cc5d9",
   "metadata": {},
   "outputs": [],
   "source": [
    "from transformers import TFBertModel,  BertConfig, BertTokenizerFast, AutoTokenizer"
   ]
  },
  {
   "cell_type": "code",
   "execution_count": 123,
   "id": "0a40385a",
   "metadata": {},
   "outputs": [
    {
     "name": "stderr",
     "output_type": "stream",
     "text": [
      "Some layers from the model checkpoint at bert-base-uncased were not used when initializing TFBertModel: ['nsp___cls', 'mlm___cls']\n",
      "- This IS expected if you are initializing TFBertModel from the checkpoint of a model trained on another task or with another architecture (e.g. initializing a BertForSequenceClassification model from a BertForPreTraining model).\n",
      "- This IS NOT expected if you are initializing TFBertModel from the checkpoint of a model that you expect to be exactly identical (initializing a BertForSequenceClassification model from a BertForSequenceClassification model).\n",
      "All the layers of TFBertModel were initialized from the model checkpoint at bert-base-uncased.\n",
      "If your task is similar to the task the model of the checkpoint was trained on, you can already use TFBertModel for predictions without further training.\n"
     ]
    }
   ],
   "source": [
    "#name of pretrained model\n",
    "model_name = 'bert-base-uncased'  \n",
    "\n",
    "# Load transformers config and set output_hidden_states to False\n",
    "config = BertConfig.from_pretrained(model_name)\n",
    "config.output_hidden_states = False\n",
    "\n",
    "# Load BERT tokenizer\n",
    "tokenizer = BertTokenizerFast.from_pretrained(pretrained_model_name_or_path = model_name, config = config)\n",
    "\n",
    "# Load the Transformers BERT model\n",
    "transformer_bert_model = TFBertModel.from_pretrained(model_name, config = config)"
   ]
  },
  {
   "cell_type": "code",
   "execution_count": 124,
   "id": "2c989b70",
   "metadata": {},
   "outputs": [],
   "source": [
    "# Load the MainLayer\n",
    "bert = transformer_bert_model.layers[0]\n",
    "\n",
    "# Build your model input\n",
    "input_ids = Input(shape=(max_token_length,), name='input_ids', dtype='int32')\n",
    "inputs = {'input_ids': input_ids}\n",
    "\n",
    "# Load the Transformers BERT model as a layer in a Keras model\n",
    "model_bert = bert(inputs)[1]\n",
    "dropout = Dropout(config.hidden_dropout_prob, name='pooled_output')\n",
    "pooled_output = dropout(model_bert, training=False)\n",
    "\n",
    "# Then build your model output\n",
    "Sentiments = Dense(units=3, kernel_initializer=TruncatedNormal(stddev=config.initializer_range), name='Sentiment')(pooled_output)\n",
    "outputs = {'Sentiment': Sentiments}\n",
    "\n",
    "# And combine it all in a model object\n",
    "model_bert = Model(inputs=inputs, outputs=outputs, name='BERT_MultiClass')"
   ]
  },
  {
   "cell_type": "code",
   "execution_count": 125,
   "id": "a4959aa9",
   "metadata": {
    "scrolled": false
   },
   "outputs": [
    {
     "name": "stdout",
     "output_type": "stream",
     "text": [
      "Model: \"BERT_MultiClass\"\n",
      "_________________________________________________________________\n",
      " Layer (type)                Output Shape              Param #   \n",
      "=================================================================\n",
      " input_ids (InputLayer)      [(None, 45)]              0         \n",
      "                                                                 \n",
      " bert (TFBertMainLayer)      TFBaseModelOutputWithPoo  109482240 \n",
      "                             lingAndCrossAttentions(l            \n",
      "                             ast_hidden_state=(None,             \n",
      "                             45, 768),                           \n",
      "                              pooler_output=(None, 76            \n",
      "                             8),                                 \n",
      "                              past_key_values=None, h            \n",
      "                             idden_states=None, atten            \n",
      "                             tions=None, cross_attent            \n",
      "                             ions=None)                          \n",
      "                                                                 \n",
      " pooled_output (Dropout)     (None, 768)               0         \n",
      "                                                                 \n",
      " Sentiment (Dense)           (None, 3)                 2307      \n",
      "                                                                 \n",
      "=================================================================\n",
      "Total params: 109,484,547\n",
      "Trainable params: 109,484,547\n",
      "Non-trainable params: 0\n",
      "_________________________________________________________________\n"
     ]
    }
   ],
   "source": [
    "model_bert.summary()"
   ]
  },
  {
   "cell_type": "code",
   "execution_count": 126,
   "id": "10a6f508",
   "metadata": {},
   "outputs": [],
   "source": [
    "x_train = tokenizer(\n",
    "            text=X_train.tolist(),\n",
    "            max_length=max_token_length,\n",
    "            truncation=True,\n",
    "            add_special_tokens=True,\n",
    "            padding='max_length', \n",
    "            return_token_type_ids = False,\n",
    "            return_attention_mask = True,\n",
    "            return_tensors='tf')\n",
    "x_val = tokenizer(\n",
    "            text=X_val.tolist(),\n",
    "            max_length=max_token_length,\n",
    "            truncation=True,\n",
    "            add_special_tokens=True,\n",
    "            padding='max_length', \n",
    "            return_token_type_ids = False,\n",
    "            return_attention_mask = True,\n",
    "            return_tensors='tf')\n",
    "x_test = tokenizer(\n",
    "            text=X_test.tolist(),\n",
    "            max_length=max_token_length,\n",
    "            truncation=True,\n",
    "            add_special_tokens=True,\n",
    "            padding='max_length', \n",
    "            return_token_type_ids = False,\n",
    "            return_attention_mask = True,\n",
    "            return_tensors='tf')"
   ]
  },
  {
   "cell_type": "code",
   "execution_count": 127,
   "id": "bdb51459",
   "metadata": {},
   "outputs": [],
   "source": [
    "# freeze the BERT layer\n",
    "model_bert.layers[2].trainable = False\n",
    "\n",
    "# compile the model\n",
    "optimizer = Adam(learning_rate = 5e-05, epsilon = 1e-08,decay=0.01)\n",
    "loss = CategoricalCrossentropy(from_logits=True)\n",
    "acc = CategoricalAccuracy('accuracy')"
   ]
  },
  {
   "cell_type": "code",
   "execution_count": 128,
   "id": "b79601b5",
   "metadata": {},
   "outputs": [
    {
     "name": "stdout",
     "output_type": "stream",
     "text": [
      "Model: \"BERT_MultiClass\"\n",
      "_________________________________________________________________\n",
      " Layer (type)                Output Shape              Param #   \n",
      "=================================================================\n",
      " input_ids (InputLayer)      [(None, 45)]              0         \n",
      "                                                                 \n",
      " bert (TFBertMainLayer)      TFBaseModelOutputWithPoo  109482240 \n",
      "                             lingAndCrossAttentions(l            \n",
      "                             ast_hidden_state=(None,             \n",
      "                             45, 768),                           \n",
      "                              pooler_output=(None, 76            \n",
      "                             8),                                 \n",
      "                              past_key_values=None, h            \n",
      "                             idden_states=None, atten            \n",
      "                             tions=None, cross_attent            \n",
      "                             ions=None)                          \n",
      "                                                                 \n",
      " pooled_output (Dropout)     (None, 768)               0         \n",
      "                                                                 \n",
      " Sentiment (Dense)           (None, 3)                 2307      \n",
      "                                                                 \n",
      "=================================================================\n",
      "Total params: 109,484,547\n",
      "Trainable params: 109,484,547\n",
      "Non-trainable params: 0\n",
      "_________________________________________________________________\n"
     ]
    }
   ],
   "source": [
    "model_bert.summary()"
   ]
  },
  {
   "cell_type": "code",
   "execution_count": 129,
   "id": "2f213109",
   "metadata": {},
   "outputs": [],
   "source": [
    "model_bert.compile(optimizer=optimizer, loss=loss, metrics=[acc])"
   ]
  },
  {
   "cell_type": "code",
   "execution_count": 130,
   "id": "0b198e27",
   "metadata": {
    "scrolled": true
   },
   "outputs": [
    {
     "data": {
      "text/plain": [
       "<keras.engine.functional.Functional at 0x7f7f92a8ac10>"
      ]
     },
     "execution_count": 130,
     "metadata": {},
     "output_type": "execute_result"
    }
   ],
   "source": [
    "model_bert"
   ]
  },
  {
   "cell_type": "code",
   "execution_count": 131,
   "id": "9de3a554",
   "metadata": {
    "scrolled": false
   },
   "outputs": [
    {
     "name": "stdout",
     "output_type": "stream",
     "text": [
      "Epoch 1/15\n",
      "764/764 [==============================] - 6333s 8s/step - loss: 0.6627 - accuracy: 0.7221 - val_loss: 0.5258 - val_accuracy: 0.7904\n",
      "Epoch 2/15\n",
      "764/764 [==============================] - 6120s 8s/step - loss: 0.4392 - accuracy: 0.8311 - val_loss: 0.4413 - val_accuracy: 0.8281\n",
      "Epoch 3/15\n",
      "764/764 [==============================] - 6856s 9s/step - loss: 0.3432 - accuracy: 0.8713 - val_loss: 0.3922 - val_accuracy: 0.8541\n",
      "Epoch 4/15\n",
      "764/764 [==============================] - 7154s 9s/step - loss: 0.2880 - accuracy: 0.8943 - val_loss: 0.3660 - val_accuracy: 0.8654\n",
      "Epoch 5/15\n",
      "764/764 [==============================] - 6919s 9s/step - loss: 0.2525 - accuracy: 0.9070 - val_loss: 0.3542 - val_accuracy: 0.8718\n",
      "Epoch 6/15\n",
      "764/764 [==============================] - 6832s 9s/step - loss: 0.2268 - accuracy: 0.9173 - val_loss: 0.3380 - val_accuracy: 0.8785\n",
      "Epoch 7/15\n",
      "764/764 [==============================] - 6646s 9s/step - loss: 0.2099 - accuracy: 0.9229 - val_loss: 0.3329 - val_accuracy: 0.8826\n",
      "Epoch 8/15\n",
      "764/764 [==============================] - 5990s 8s/step - loss: 0.1983 - accuracy: 0.9268 - val_loss: 0.3229 - val_accuracy: 0.8855\n",
      "Epoch 9/15\n",
      "764/764 [==============================] - 5834s 8s/step - loss: 0.1869 - accuracy: 0.9322 - val_loss: 0.3163 - val_accuracy: 0.8901\n",
      "Epoch 10/15\n",
      "764/764 [==============================] - 5842s 8s/step - loss: 0.1758 - accuracy: 0.9354 - val_loss: 0.3124 - val_accuracy: 0.8919\n",
      "Epoch 11/15\n",
      "764/764 [==============================] - 5827s 8s/step - loss: 0.1668 - accuracy: 0.9386 - val_loss: 0.3112 - val_accuracy: 0.8942\n",
      "Epoch 12/15\n",
      "764/764 [==============================] - 5869s 8s/step - loss: 0.1600 - accuracy: 0.9408 - val_loss: 0.3077 - val_accuracy: 0.8969\n",
      "Epoch 13/15\n",
      "764/764 [==============================] - 6042s 8s/step - loss: 0.1563 - accuracy: 0.9431 - val_loss: 0.3076 - val_accuracy: 0.8971\n",
      "Epoch 14/15\n",
      "764/764 [==============================] - 7890s 10s/step - loss: 0.1511 - accuracy: 0.9432 - val_loss: 0.3037 - val_accuracy: 0.8984\n",
      "Epoch 15/15\n",
      "764/764 [==============================] - 8333s 11s/step - loss: 0.1468 - accuracy: 0.9453 - val_loss: 0.3018 - val_accuracy: 0.9007\n"
     ]
    }
   ],
   "source": [
    "# Fit the model\n",
    "history_bert = model_bert.fit(\n",
    "    x={'input_ids': x_train['input_ids']},\n",
    "    y={'Sentiment': y_train},\n",
    "    validation_data=({'input_ids': x_val['input_ids']},{'Sentiment': y_val}),\n",
    "    batch_size=batch_size,\n",
    "    epochs=num_epochs)\n"
   ]
  },
  {
   "cell_type": "code",
   "execution_count": 132,
   "id": "54ec1430",
   "metadata": {},
   "outputs": [
    {
     "data": {
      "image/png": "[encoded data removed]",
      "text/plain": [
       "<Figure size 432x288 with 1 Axes>"
      ]
     },
     "metadata": {
      "needs_background": "light"
     },
     "output_type": "display_data"
    }
   ],
   "source": [
    "loss_train = history_bert.history['loss']\n",
    "loss_valid = history_bert.history['val_loss']\n",
    "epochs = range(1,num_epochs+1)\n",
    "plt.plot(epochs, loss_train, 'g', label='Training loss')\n",
    "plt.plot(epochs, loss_valid, 'o', label='Validation loss')\n",
    "plt.title('Training loss')\n",
    "plt.xlabel('Epochs')\n",
    "plt.ylabel('Loss')\n",
    "plt.legend()\n",
    "plt.show()"
   ]
  },
  {
   "cell_type": "code",
   "execution_count": 133,
   "id": "6aa145d2",
   "metadata": {},
   "outputs": [
    {
     "data": {
      "image/png": "[encoded data removed]",
      "text/plain": [
       "<Figure size 432x288 with 1 Axes>"
      ]
     },
     "metadata": {
      "needs_background": "light"
     },
     "output_type": "display_data"
    }
   ],
   "source": [
    "accuracy_train = history_bert.history['accuracy']\n",
    "accuracy_valid = history_bert.history['val_accuracy']\n",
    "epochs = range(1,num_epochs+1)\n",
    "plt.plot(epochs, accuracy_train, 'g', label='Training Accuracy')\n",
    "plt.plot(epochs, accuracy_valid, 'o', label='Validation Accuracy')\n",
    "plt.title('Training Accuracy')\n",
    "plt.xlabel('Epochs')\n",
    "plt.ylabel('Accuracy')\n",
    "plt.legend()\n",
    "plt.show()"
   ]
  },
  {
   "cell_type": "code",
   "execution_count": 134,
   "id": "bca86aa4",
   "metadata": {},
   "outputs": [
    {
     "name": "stdout",
     "output_type": "stream",
     "text": [
      "383/383 [==============================] - 606s 2s/step - loss: 0.3018 - accuracy: 0.9007\n"
     ]
    }
   ],
   "source": [
    "bert_model_eval = model_bert.evaluate(\n",
    "    x={'input_ids': x_val['input_ids']},\n",
    "    y={'Sentiment': y_val}\n",
    ")"
   ]
  },
  {
   "cell_type": "code",
   "execution_count": 135,
   "id": "a6827771",
   "metadata": {},
   "outputs": [
    {
     "name": "stdout",
     "output_type": "stream",
     "text": [
      "383/383 [==============================] - 823s 2s/step\n"
     ]
    }
   ],
   "source": [
    "y_val_predicted_bert = model_bert.predict(\n",
    "    x={'input_ids': x_val['input_ids']},\n",
    ")"
   ]
  },
  {
   "cell_type": "code",
   "execution_count": 136,
   "id": "d8d0d6e0",
   "metadata": {},
   "outputs": [
    {
     "name": "stdout",
     "output_type": "stream",
     "text": [
      "26/26 [==============================] - 48s 2s/step\n"
     ]
    }
   ],
   "source": [
    "label_predicted_bert = model_bert.predict(\n",
    "    x={'input_ids': x_test['input_ids']},\n",
    ")"
   ]
  },
  {
   "cell_type": "code",
   "execution_count": 137,
   "id": "ed1c8b15",
   "metadata": {},
   "outputs": [],
   "source": [
    "label_pred_bert=[np.argmax(i) for i in label_predicted_bert['Sentiment']]"
   ]
  },
  {
   "cell_type": "code",
   "execution_count": null,
   "id": "0e72180a",
   "metadata": {},
   "outputs": [],
   "source": []
  },
  {
   "cell_type": "markdown",
   "id": "a7a2d50a",
   "metadata": {},
   "source": [
    "# albert base v2"
   ]
  },
  {
   "cell_type": "code",
   "execution_count": 35,
   "id": "2d3f055d",
   "metadata": {
    "scrolled": true
   },
   "outputs": [],
   "source": [
    "from transformers import TFAlbertModel,  AlbertConfig, AlbertTokenizerFast"
   ]
  },
  {
   "cell_type": "code",
   "execution_count": 36,
   "id": "bf744592",
   "metadata": {},
   "outputs": [
    {
     "name": "stderr",
     "output_type": "stream",
     "text": [
      "Some layers from the model checkpoint at albert-base-v2 were not used when initializing TFAlbertModel: ['predictions']\n",
      "- This IS expected if you are initializing TFAlbertModel from the checkpoint of a model trained on another task or with another architecture (e.g. initializing a BertForSequenceClassification model from a BertForPreTraining model).\n",
      "- This IS NOT expected if you are initializing TFAlbertModel from the checkpoint of a model that you expect to be exactly identical (initializing a BertForSequenceClassification model from a BertForSequenceClassification model).\n",
      "All the layers of TFAlbertModel were initialized from the model checkpoint at albert-base-v2.\n",
      "If your task is similar to the task the model of the checkpoint was trained on, you can already use TFAlbertModel for predictions without further training.\n"
     ]
    }
   ],
   "source": [
    "# Name of the BERT model to use\n",
    "model_name = 'albert-base-v2'\n",
    "\n",
    "# Load transformers config and set output_hidden_states to False\n",
    "config = AlbertConfig.from_pretrained(model_name)\n",
    "config.output_hidden_states = False\n",
    "\n",
    "# Load BERT tokenizer\n",
    "#tokenizer = AutoTokenizer.from_pretrained(model_name)\n",
    "tokenizer = AlbertTokenizerFast.from_pretrained(pretrained_model_name_or_path = model_name, config = config)\n",
    "\n",
    "# Load the Transformers BERT model\n",
    "transformer_albert_model = TFAlbertModel.from_pretrained(model_name, config = config)"
   ]
  },
  {
   "cell_type": "code",
   "execution_count": 37,
   "id": "3bb7e7d2",
   "metadata": {},
   "outputs": [],
   "source": [
    "x_train = tokenizer(\n",
    "            text=X_train.tolist(),\n",
    "            max_length=max_token_length,\n",
    "            truncation=True,\n",
    "            add_special_tokens=True,\n",
    "            padding='max_length', \n",
    "            return_token_type_ids = False,\n",
    "            return_attention_mask = True,\n",
    "            return_tensors='tf')\n",
    "x_val = tokenizer(\n",
    "            text=X_val.tolist(),\n",
    "            max_length=max_token_length,\n",
    "            truncation=True,\n",
    "            add_special_tokens=True,\n",
    "            padding='max_length', \n",
    "            return_token_type_ids = False,\n",
    "            return_attention_mask = True,\n",
    "            return_tensors='tf')\n",
    "x_test = tokenizer(\n",
    "            text=X_test.tolist(),\n",
    "            max_length=max_token_length,\n",
    "            truncation=True,\n",
    "            add_special_tokens=True,\n",
    "            padding='max_length', \n",
    "            return_token_type_ids = False,\n",
    "            return_attention_mask = True,\n",
    "            return_tensors='tf')"
   ]
  },
  {
   "cell_type": "code",
   "execution_count": 38,
   "id": "c8d45cef",
   "metadata": {},
   "outputs": [],
   "source": [
    "# Load the MainLayer\n",
    "albert = transformer_albert_model.layers[0]\n",
    "\n",
    "# Build your model input\n",
    "input_ids = Input(shape=(max_token_length,), name='input_ids', dtype='int32')\n",
    "inputs = {'input_ids': input_ids}\n",
    "\n",
    "# Load the Transformers BERT model as a layer in a Keras model\n",
    "model_albert = albert(inputs)[1]\n",
    "dropout = Dropout(config.hidden_dropout_prob, name='pooled_output')\n",
    "pooled_output = dropout(model_albert, training=False)\n",
    "\n",
    "# Then build your model output\n",
    "Sentiments = Dense(units=3, kernel_initializer=TruncatedNormal(stddev=config.initializer_range), name='Sentiment')(pooled_output)\n",
    "outputs = {'Sentiment': Sentiments}\n",
    "\n",
    "# And combine it all in a model object\n",
    "model_albert = Model(inputs=inputs, outputs=outputs, name='ALBERT_MultiClass')"
   ]
  },
  {
   "cell_type": "code",
   "execution_count": 39,
   "id": "03d1aebc",
   "metadata": {
    "scrolled": false
   },
   "outputs": [
    {
     "name": "stdout",
     "output_type": "stream",
     "text": [
      "Model: \"ALBERT_MultiClass\"\n",
      "_________________________________________________________________\n",
      " Layer (type)                Output Shape              Param #   \n",
      "=================================================================\n",
      " input_ids (InputLayer)      [(None, 45)]              0         \n",
      "                                                                 \n",
      " albert (TFAlbertMainLayer)  TFBaseModelOutputWithPoo  11683584  \n",
      "                             ling(last_hidden_state=(            \n",
      "                             None, 45, 768),                     \n",
      "                              pooler_output=(None, 76            \n",
      "                             8),                                 \n",
      "                              hidden_states=None, att            \n",
      "                             entions=None)                       \n",
      "                                                                 \n",
      " pooled_output (Dropout)     (None, 768)               0         \n",
      "                                                                 \n",
      " Sentiment (Dense)           (None, 3)                 2307      \n",
      "                                                                 \n",
      "=================================================================\n",
      "Total params: 11,685,891\n",
      "Trainable params: 11,685,891\n",
      "Non-trainable params: 0\n",
      "_________________________________________________________________\n"
     ]
    }
   ],
   "source": [
    "model_albert.summary()"
   ]
  },
  {
   "cell_type": "code",
   "execution_count": 40,
   "id": "c1994e0e",
   "metadata": {},
   "outputs": [],
   "source": [
    "# freeze the BERT layer\n",
    "#model_bert.layers[2].trainable = False\n",
    "\n",
    "# compile the model\n",
    "optimizer = Adam(learning_rate = 5e-05, epsilon = 1e-08,decay=0.01)\n",
    "loss = CategoricalCrossentropy(from_logits=True)\n",
    "acc = CategoricalAccuracy('accuracy')"
   ]
  },
  {
   "cell_type": "code",
   "execution_count": 41,
   "id": "65748f36",
   "metadata": {},
   "outputs": [],
   "source": [
    "model_albert.compile(optimizer=optimizer, loss=loss, metrics=[acc])"
   ]
  },
  {
   "cell_type": "code",
   "execution_count": 42,
   "id": "eef9326f",
   "metadata": {
    "scrolled": true
   },
   "outputs": [
    {
     "data": {
      "text/plain": [
       "<keras.engine.functional.Functional at 0x7f81422b7fd0>"
      ]
     },
     "execution_count": 42,
     "metadata": {},
     "output_type": "execute_result"
    }
   ],
   "source": [
    "model_albert"
   ]
  },
  {
   "cell_type": "code",
   "execution_count": 43,
   "id": "7d14d0e3",
   "metadata": {
    "scrolled": false
   },
   "outputs": [
    {
     "name": "stdout",
     "output_type": "stream",
     "text": [
      "Epoch 1/15\n",
      "764/764 [==============================] - 7122s 9s/step - loss: 0.9202 - accuracy: 0.5440 - val_loss: 0.7156 - val_accuracy: 0.7040\n",
      "Epoch 2/15\n",
      "764/764 [==============================] - 7426s 10s/step - loss: 0.6060 - accuracy: 0.7582 - val_loss: 0.5817 - val_accuracy: 0.7706\n",
      "Epoch 3/15\n",
      "764/764 [==============================] - 6242s 8s/step - loss: 0.4376 - accuracy: 0.8360 - val_loss: 0.5217 - val_accuracy: 0.7962\n",
      "Epoch 4/15\n",
      "764/764 [==============================] - 5558s 7s/step - loss: 0.3124 - accuracy: 0.8904 - val_loss: 0.5040 - val_accuracy: 0.8132\n",
      "Epoch 5/15\n",
      "764/764 [==============================] - 5491s 7s/step - loss: 0.2295 - accuracy: 0.9240 - val_loss: 0.5147 - val_accuracy: 0.8168\n",
      "Epoch 6/15\n",
      "764/764 [==============================] - 5462s 7s/step - loss: 0.1760 - accuracy: 0.9435 - val_loss: 0.5351 - val_accuracy: 0.8221\n",
      "Epoch 7/15\n",
      "764/764 [==============================] - 5446s 7s/step - loss: 0.1418 - accuracy: 0.9553 - val_loss: 0.5618 - val_accuracy: 0.8214\n",
      "Epoch 8/15\n",
      "764/764 [==============================] - 6044s 8s/step - loss: 0.1181 - accuracy: 0.9622 - val_loss: 0.5829 - val_accuracy: 0.8216\n",
      "Epoch 9/15\n",
      "764/764 [==============================] - 5957s 8s/step - loss: 0.1009 - accuracy: 0.9675 - val_loss: 0.6039 - val_accuracy: 0.8204\n",
      "Epoch 10/15\n",
      "764/764 [==============================] - 6940s 9s/step - loss: 0.0886 - accuracy: 0.9703 - val_loss: 0.6296 - val_accuracy: 0.8219\n",
      "Epoch 11/15\n",
      "764/764 [==============================] - 6375s 8s/step - loss: 0.0802 - accuracy: 0.9728 - val_loss: 0.6473 - val_accuracy: 0.8194\n",
      "Epoch 12/15\n",
      "764/764 [==============================] - 6061s 8s/step - loss: 0.0732 - accuracy: 0.9744 - val_loss: 0.6616 - val_accuracy: 0.8204\n",
      "Epoch 13/15\n",
      "764/764 [==============================] - 6092s 8s/step - loss: 0.0679 - accuracy: 0.9757 - val_loss: 0.6864 - val_accuracy: 0.8156\n",
      "Epoch 14/15\n",
      "764/764 [==============================] - 6111s 8s/step - loss: 0.0638 - accuracy: 0.9764 - val_loss: 0.6944 - val_accuracy: 0.8199\n",
      "Epoch 15/15\n",
      "764/764 [==============================] - 5692s 7s/step - loss: 0.0605 - accuracy: 0.9775 - val_loss: 0.7133 - val_accuracy: 0.8172\n"
     ]
    }
   ],
   "source": [
    "# Fit the model\n",
    "history_albert = model_albert.fit(\n",
    "    x={'input_ids': x_train['input_ids']},\n",
    "    y={'Sentiment': y_train},\n",
    "    validation_data=({'input_ids': x_val['input_ids']},{'Sentiment': y_val}),\n",
    "    batch_size=batch_size,\n",
    "    epochs=num_epochs)\n"
   ]
  },
  {
   "cell_type": "code",
   "execution_count": 44,
   "id": "ec6a17cb",
   "metadata": {},
   "outputs": [
    {
     "data": {
      "image/png": "[encoded data removed]",
      "text/plain": [
       "<Figure size 432x288 with 1 Axes>"
      ]
     },
     "metadata": {
      "needs_background": "light"
     },
     "output_type": "display_data"
    }
   ],
   "source": [
    "loss_train = history_albert.history['loss']\n",
    "loss_valid = history_albert.history['val_loss']\n",
    "epochs = range(1,num_epochs+1)\n",
    "plt.plot(epochs, loss_train, 'g', label='Training loss')\n",
    "plt.plot(epochs, loss_valid, 'o', label='Validation loss')\n",
    "plt.title('Training loss')\n",
    "plt.xlabel('Epochs')\n",
    "plt.ylabel('Loss')\n",
    "plt.legend()\n",
    "plt.show()"
   ]
  },
  {
   "cell_type": "code",
   "execution_count": 45,
   "id": "28fa8d2b",
   "metadata": {},
   "outputs": [
    {
     "data": {
      "image/png": "[encoded data removed]",
      "text/plain": [
       "<Figure size 432x288 with 1 Axes>"
      ]
     },
     "metadata": {
      "needs_background": "light"
     },
     "output_type": "display_data"
    }
   ],
   "source": [
    "accuracy_train = history_albert.history['accuracy']\n",
    "accuracy_valid = history_albert.history['val_accuracy']\n",
    "epochs = range(1,num_epochs+1)\n",
    "plt.plot(epochs, accuracy_train, 'g', label='Training Accuracy')\n",
    "plt.plot(epochs, accuracy_valid, 'o', label='Validation Accuracy')\n",
    "plt.title('Training Accuracy')\n",
    "plt.xlabel('Epochs')\n",
    "plt.ylabel('Accuracy')\n",
    "plt.legend()\n",
    "plt.show()"
   ]
  },
  {
   "cell_type": "code",
   "execution_count": null,
   "id": "efe63fc7",
   "metadata": {},
   "outputs": [],
   "source": []
  },
  {
   "cell_type": "code",
   "execution_count": 46,
   "id": "0729398f",
   "metadata": {},
   "outputs": [
    {
     "name": "stdout",
     "output_type": "stream",
     "text": [
      "383/383 [==============================] - 517s 1s/step - loss: 0.7133 - accuracy: 0.8172\n"
     ]
    }
   ],
   "source": [
    "albet_model_eval = model_albert.evaluate(\n",
    "    x={'input_ids': x_val['input_ids']},\n",
    "    y={'Sentiment': y_val}\n",
    ")"
   ]
  },
  {
   "cell_type": "code",
   "execution_count": 47,
   "id": "b2f05f5c",
   "metadata": {},
   "outputs": [
    {
     "name": "stdout",
     "output_type": "stream",
     "text": [
      "383/383 [==============================] - 515s 1s/step\n"
     ]
    }
   ],
   "source": [
    "y_val_predicted_albert = model_albert.predict(\n",
    "    x={'input_ids': x_val['input_ids']},\n",
    ")"
   ]
  },
  {
   "cell_type": "code",
   "execution_count": 48,
   "id": "f1db0220",
   "metadata": {},
   "outputs": [
    {
     "name": "stdout",
     "output_type": "stream",
     "text": [
      "26/26 [==============================] - 35s 1s/step\n"
     ]
    }
   ],
   "source": [
    "label_predicted_albert = model_albert.predict(\n",
    "    x={'input_ids': x_test['input_ids']},\n",
    ")"
   ]
  },
  {
   "cell_type": "code",
   "execution_count": 49,
   "id": "776cfaf5",
   "metadata": {},
   "outputs": [],
   "source": [
    "label_pred_albert=[np.argmax(i) for i in label_predicted_albert['Sentiment']]"
   ]
  },
  {
   "cell_type": "code",
   "execution_count": null,
   "id": "4a139227",
   "metadata": {},
   "outputs": [],
   "source": []
  },
  {
   "cell_type": "code",
   "execution_count": null,
   "id": "da2be77e",
   "metadata": {},
   "outputs": [],
   "source": []
  },
  {
   "cell_type": "markdown",
   "id": "a78d8300",
   "metadata": {},
   "source": [
    "# Roberta Base"
   ]
  },
  {
   "cell_type": "code",
   "execution_count": 50,
   "id": "3cfa5fdb",
   "metadata": {},
   "outputs": [],
   "source": [
    "from transformers import RobertaTokenizer, TFRobertaModel, RobertaConfig  "
   ]
  },
  {
   "cell_type": "code",
   "execution_count": 51,
   "id": "b6abfa68",
   "metadata": {},
   "outputs": [],
   "source": [
    "model_name = 'roberta-base'"
   ]
  },
  {
   "cell_type": "code",
   "execution_count": 52,
   "id": "a6cc3cd5",
   "metadata": {},
   "outputs": [
    {
     "name": "stderr",
     "output_type": "stream",
     "text": [
      "Some layers from the model checkpoint at roberta-base were not used when initializing TFRobertaModel: ['lm_head']\n",
      "- This IS expected if you are initializing TFRobertaModel from the checkpoint of a model trained on another task or with another architecture (e.g. initializing a BertForSequenceClassification model from a BertForPreTraining model).\n",
      "- This IS NOT expected if you are initializing TFRobertaModel from the checkpoint of a model that you expect to be exactly identical (initializing a BertForSequenceClassification model from a BertForSequenceClassification model).\n",
      "All the layers of TFRobertaModel were initialized from the model checkpoint at roberta-base.\n",
      "If your task is similar to the task the model of the checkpoint was trained on, you can already use TFRobertaModel for predictions without further training.\n"
     ]
    }
   ],
   "source": [
    "# Load transformers config and set output_hidden_states to False\n",
    "config = RobertaConfig.from_pretrained(model_name)\n",
    "config.output_hidden_states = False\n",
    "\n",
    "# Load BERT tokenizer\n",
    "tokenizer = RobertaTokenizer.from_pretrained(pretrained_model_name_or_path = model_name, config = config)\n",
    "\n",
    "# Load the Transformers BERT model\n",
    "transformer_roberta_model = TFRobertaModel.from_pretrained(model_name, config = config)"
   ]
  },
  {
   "cell_type": "code",
   "execution_count": 53,
   "id": "5e9d3beb",
   "metadata": {},
   "outputs": [],
   "source": [
    "x_train = tokenizer(\n",
    "          text=X_train.tolist(),\n",
    "          add_special_tokens=True,\n",
    "          max_length=max_token_length,\n",
    "          truncation=True,\n",
    "          padding=True, \n",
    "          return_tensors='tf',\n",
    "          return_token_type_ids = False,\n",
    "          return_attention_mask = True,\n",
    "          verbose = True)\n",
    "x_val = tokenizer(\n",
    "          text=X_val.tolist(),\n",
    "          add_special_tokens=True,\n",
    "          max_length=max_token_length,\n",
    "        truncation=True,\n",
    "          padding=True, \n",
    "          return_tensors='tf',\n",
    "          return_token_type_ids = False,\n",
    "          return_attention_mask = True,\n",
    "          verbose = True)\n",
    "x_test = tokenizer(\n",
    "          text=X_test.tolist(),\n",
    "          add_special_tokens=True,\n",
    "          max_length=max_token_length,\n",
    "          truncation=True,\n",
    "          padding=True, \n",
    "          return_tensors='tf',\n",
    "          return_token_type_ids = False,\n",
    "          return_attention_mask = False,\n",
    "          verbose = True)"
   ]
  },
  {
   "cell_type": "code",
   "execution_count": 54,
   "id": "67dd498b",
   "metadata": {},
   "outputs": [],
   "source": [
    "# Load the MainLayer\n",
    "roberta = transformer_roberta_model.layers[0]\n",
    "\n",
    "# Build your model input\n",
    "input_ids = Input(shape=(max_token_length,), name='input_ids', dtype='int32')\n",
    "inputs = {'input_ids': input_ids}\n",
    "\n",
    "# Load the Transformers BERT model as a layer in a Keras model\n",
    "roberta_model = roberta(inputs)[1]\n",
    "dropout = Dropout(config.hidden_dropout_prob, name='pooled_output')\n",
    "pooled_output = dropout(roberta_model, training=False)\n",
    "\n",
    "# Then build your model output\n",
    "Sentiments = Dense(units=3, kernel_initializer=TruncatedNormal(stddev=config.initializer_range), name='Sentiment')(pooled_output)\n",
    "outputs = {'Sentiment': Sentiments}\n",
    "\n",
    "# And combine it all in a model object\n",
    "model_roberta = Model(inputs=inputs, outputs=outputs, name=model_name)"
   ]
  },
  {
   "cell_type": "code",
   "execution_count": 55,
   "id": "8ad74a13",
   "metadata": {},
   "outputs": [
    {
     "name": "stdout",
     "output_type": "stream",
     "text": [
      "Model: \"roberta-base\"\n",
      "_________________________________________________________________\n",
      " Layer (type)                Output Shape              Param #   \n",
      "=================================================================\n",
      " input_ids (InputLayer)      [(None, 45)]              0         \n",
      "                                                                 \n",
      " roberta (TFRobertaMainLayer  TFBaseModelOutputWithPoo  124645632\n",
      " )                           lingAndCrossAttentions(l            \n",
      "                             ast_hidden_state=(None,             \n",
      "                             45, 768),                           \n",
      "                              pooler_output=(None, 76            \n",
      "                             8),                                 \n",
      "                              past_key_values=None, h            \n",
      "                             idden_states=None, atten            \n",
      "                             tions=None, cross_attent            \n",
      "                             ions=None)                          \n",
      "                                                                 \n",
      " pooled_output (Dropout)     (None, 768)               0         \n",
      "                                                                 \n",
      " Sentiment (Dense)           (None, 3)                 2307      \n",
      "                                                                 \n",
      "=================================================================\n",
      "Total params: 124,647,939\n",
      "Trainable params: 124,647,939\n",
      "Non-trainable params: 0\n",
      "_________________________________________________________________\n"
     ]
    }
   ],
   "source": [
    "model_roberta.summary()"
   ]
  },
  {
   "cell_type": "code",
   "execution_count": 56,
   "id": "5b59fba4",
   "metadata": {
    "scrolled": false
   },
   "outputs": [],
   "source": [
    "# Set an optimizer\n",
    "optimizer = Adam(learning_rate=5e-05,epsilon=1e-08,decay=0.01,clipnorm=1.0)\n",
    "\n",
    "# Set loss and metrics\n",
    "loss = {'Sentiment': CategoricalCrossentropy(from_logits = True)}\n",
    "\n",
    "# Compile the model\n",
    "model_roberta.compile(optimizer = optimizer, loss = loss, metrics = ['accuracy'])"
   ]
  },
  {
   "cell_type": "code",
   "execution_count": 57,
   "id": "5d87b1c2",
   "metadata": {
    "scrolled": false
   },
   "outputs": [
    {
     "name": "stdout",
     "output_type": "stream",
     "text": [
      "Epoch 1/15\n",
      "764/764 [==============================] - 5653s 7s/step - loss: 0.6750 - accuracy: 0.7119 - val_loss: 0.5522 - val_accuracy: 0.7713\n",
      "Epoch 2/15\n",
      "764/764 [==============================] - 5660s 7s/step - loss: 0.4975 - accuracy: 0.8002 - val_loss: 0.4785 - val_accuracy: 0.8115\n",
      "Epoch 3/15\n",
      "764/764 [==============================] - 5672s 7s/step - loss: 0.4181 - accuracy: 0.8342 - val_loss: 0.4396 - val_accuracy: 0.8328\n",
      "Epoch 4/15\n",
      "764/764 [==============================] - 5642s 7s/step - loss: 0.3695 - accuracy: 0.8561 - val_loss: 0.4072 - val_accuracy: 0.8452\n",
      "Epoch 5/15\n",
      "764/764 [==============================] - 5688s 7s/step - loss: 0.3365 - accuracy: 0.8702 - val_loss: 0.3921 - val_accuracy: 0.8533\n",
      "Epoch 6/15\n",
      "764/764 [==============================] - 7334s 10s/step - loss: 0.3078 - accuracy: 0.8807 - val_loss: 0.3800 - val_accuracy: 0.8564\n",
      "Epoch 7/15\n",
      "764/764 [==============================] - 8050s 11s/step - loss: 0.2880 - accuracy: 0.8891 - val_loss: 0.3730 - val_accuracy: 0.8657\n",
      "Epoch 8/15\n",
      "764/764 [==============================] - 7742s 10s/step - loss: 0.2706 - accuracy: 0.8964 - val_loss: 0.3595 - val_accuracy: 0.8696\n",
      "Epoch 9/15\n",
      "764/764 [==============================] - 5910s 8s/step - loss: 0.2575 - accuracy: 0.9020 - val_loss: 0.3500 - val_accuracy: 0.8739\n",
      "Epoch 10/15\n",
      "764/764 [==============================] - 5956s 8s/step - loss: 0.2447 - accuracy: 0.9058 - val_loss: 0.3452 - val_accuracy: 0.8764\n",
      "Epoch 11/15\n",
      "764/764 [==============================] - 5948s 8s/step - loss: 0.2374 - accuracy: 0.9094 - val_loss: 0.3369 - val_accuracy: 0.8798\n",
      "Epoch 12/15\n",
      "764/764 [==============================] - 5782s 8s/step - loss: 0.2292 - accuracy: 0.9136 - val_loss: 0.3322 - val_accuracy: 0.8817\n",
      "Epoch 13/15\n",
      "764/764 [==============================] - 5772s 8s/step - loss: 0.2215 - accuracy: 0.9150 - val_loss: 0.3310 - val_accuracy: 0.8830\n",
      "Epoch 14/15\n",
      "764/764 [==============================] - 5740s 8s/step - loss: 0.2152 - accuracy: 0.9177 - val_loss: 0.3253 - val_accuracy: 0.8857\n",
      "Epoch 15/15\n",
      "764/764 [==============================] - 5761s 8s/step - loss: 0.2088 - accuracy: 0.9195 - val_loss: 0.3229 - val_accuracy: 0.8875\n"
     ]
    }
   ],
   "source": [
    "# Fit the model\n",
    "history_roberta = model_roberta.fit(\n",
    "    x={'input_ids': x_train['input_ids']},\n",
    "    y={'Sentiment': y_train},\n",
    "    validation_data=({'input_ids': x_val['input_ids']},{'Sentiment': y_val}),\n",
    "    batch_size=batch_size,\n",
    "    epochs=num_epochs,\n",
    "    verbose=1)\n",
    "#model_bert.save('MODEL-BERT.h5')"
   ]
  },
  {
   "cell_type": "code",
   "execution_count": 58,
   "id": "4cfea885",
   "metadata": {},
   "outputs": [
    {
     "data": {
      "image/png": "[encoded data removed]",
      "text/plain": [
       "<Figure size 432x288 with 1 Axes>"
      ]
     },
     "metadata": {
      "needs_background": "light"
     },
     "output_type": "display_data"
    }
   ],
   "source": [
    "loss_train = history_roberta.history['loss']\n",
    "loss_valid = history_roberta.history['val_loss']\n",
    "epochs = range(1,num_epochs+1)\n",
    "plt.plot(epochs, loss_train, 'g', label='Training loss')\n",
    "plt.plot(epochs, loss_valid, 'o', label='Validation loss')\n",
    "plt.title('Training loss')\n",
    "plt.xlabel('Epochs')\n",
    "plt.ylabel('Loss')\n",
    "plt.legend()\n",
    "plt.show()"
   ]
  },
  {
   "cell_type": "code",
   "execution_count": 59,
   "id": "fda5ceed",
   "metadata": {},
   "outputs": [
    {
     "data": {
      "image/png": "[encoded data removed]",
      "text/plain": [
       "<Figure size 432x288 with 1 Axes>"
      ]
     },
     "metadata": {
      "needs_background": "light"
     },
     "output_type": "display_data"
    }
   ],
   "source": [
    "accuracy_train = history_roberta.history['accuracy']\n",
    "accuracy_valid = history_roberta.history['val_accuracy']\n",
    "epochs = range(1,num_epochs+1)\n",
    "plt.plot(epochs, accuracy_train, 'g', label='Training Accuracy')\n",
    "plt.plot(epochs, accuracy_valid, 'o', label='Validation Accuracy')\n",
    "plt.title('Training Accuracy')\n",
    "plt.xlabel('Epochs')\n",
    "plt.ylabel('Accuracy')\n",
    "plt.legend()\n",
    "plt.show()"
   ]
  },
  {
   "cell_type": "code",
   "execution_count": 60,
   "id": "08cabc32",
   "metadata": {},
   "outputs": [
    {
     "name": "stdout",
     "output_type": "stream",
     "text": [
      "383/383 [==============================] - 564s 1s/step - loss: 0.3229 - accuracy: 0.8875\n"
     ]
    }
   ],
   "source": [
    "roberta_model_eval = model_roberta.evaluate(\n",
    "    x={'input_ids': x_val['input_ids']},\n",
    "    y={'Sentiment': y_val}\n",
    ")"
   ]
  },
  {
   "cell_type": "code",
   "execution_count": 61,
   "id": "4921c80b",
   "metadata": {},
   "outputs": [
    {
     "name": "stdout",
     "output_type": "stream",
     "text": [
      "383/383 [==============================] - 595s 2s/step\n"
     ]
    }
   ],
   "source": [
    "y_val_predicted_roberta = model_roberta.predict(\n",
    "    x={'input_ids': x_val['input_ids']},\n",
    ")"
   ]
  },
  {
   "cell_type": "code",
   "execution_count": 62,
   "id": "f9eca1bf",
   "metadata": {},
   "outputs": [
    {
     "name": "stdout",
     "output_type": "stream",
     "text": [
      "26/26 [==============================] - 35s 1s/step\n"
     ]
    }
   ],
   "source": [
    "label_predicted_roberta = model_roberta.predict(\n",
    "    x={'input_ids': x_test['input_ids']},\n",
    ")"
   ]
  },
  {
   "cell_type": "code",
   "execution_count": 64,
   "id": "03c34d8e",
   "metadata": {},
   "outputs": [],
   "source": [
    "label_pred_roberta=[np.argmax(i) for i in label_predicted_roberta['Sentiment']]"
   ]
  },
  {
   "cell_type": "code",
   "execution_count": null,
   "id": "f0ec8ae2",
   "metadata": {},
   "outputs": [],
   "source": []
  },
  {
   "cell_type": "markdown",
   "id": "c835242e",
   "metadata": {},
   "source": [
    "# Model comparison"
   ]
  },
  {
   "cell_type": "code",
   "execution_count": 141,
   "id": "2e88bdc6",
   "metadata": {},
   "outputs": [
    {
     "name": "stdout",
     "output_type": "stream",
     "text": [
      "Accuracy Score BERT: 0.9601449275362319\n",
      "Accuracy Score ALBERT: 0.927536231884058\n",
      "Accuracy Score ROBERTA: 0.9468599033816425\n"
     ]
    }
   ],
   "source": [
    "# accuracy score for each:\n",
    "print(\"Accuracy Score BERT: {}\".format(accuracy_score(y_test,label_pred_bert)))\n",
    "print(\"Accuracy Score ALBERT: {}\".format(accuracy_score(y_test,label_pred_albert)))\n",
    "print(\"Accuracy Score ROBERTA: {}\".format(accuracy_score(y_test,label_pred_roberta)))"
   ]
  },
  {
   "cell_type": "markdown",
   "id": "6fb958d1",
   "metadata": {},
   "source": [
    "### Confusion Matrix"
   ]
  },
  {
   "cell_type": "code",
   "execution_count": 139,
   "id": "5ba46db4",
   "metadata": {},
   "outputs": [
    {
     "data": {
      "image/png": "[encoded data removed]",
      "text/plain": [
       "<Figure size 432x288 with 2 Axes>"
      ]
     },
     "metadata": {
      "needs_background": "light"
     },
     "output_type": "display_data"
    }
   ],
   "source": [
    "## Albert\n",
    "fig,ax = plt.subplots()\n",
    "sns.heatmap(confusion_matrix(y_test, label_pred_bert),annot=True,ax=ax)\n",
    "plt.show()\n",
    "plt.close()\n"
   ]
  },
  {
   "cell_type": "code",
   "execution_count": 115,
   "id": "f96e7b7a",
   "metadata": {},
   "outputs": [
    {
     "data": {
      "image/png": "[encoded data removed]",
      "text/plain": [
       "<Figure size 432x288 with 2 Axes>"
      ]
     },
     "metadata": {
      "needs_background": "light"
     },
     "output_type": "display_data"
    }
   ],
   "source": [
    "## Albert\n",
    "fig,ax = plt.subplots()\n",
    "sns.heatmap(confusion_matrix(y_test, label_pred_albert),annot=True,ax=ax)\n",
    "plt.show()\n",
    "plt.close()\n"
   ]
  },
  {
   "cell_type": "code",
   "execution_count": 116,
   "id": "6a6eb370",
   "metadata": {},
   "outputs": [
    {
     "data": {
      "image/png": "[encoded data removed]",
      "text/plain": [
       "<Figure size 432x288 with 2 Axes>"
      ]
     },
     "metadata": {
      "needs_background": "light"
     },
     "output_type": "display_data"
    }
   ],
   "source": [
    "## Albert\n",
    "fig,ax = plt.subplots()\n",
    "sns.heatmap(confusion_matrix(y_test, label_pred_roberta),annot=True,ax=ax)\n",
    "plt.show()\n",
    "plt.close()\n"
   ]
  },
  {
   "cell_type": "code",
   "execution_count": null,
   "id": "07ff76d6",
   "metadata": {},
   "outputs": [],
   "source": []
  },
  {
   "cell_type": "code",
   "execution_count": null,
   "id": "c2b0b708",
   "metadata": {},
   "outputs": [],
   "source": []
  },
  {
   "cell_type": "markdown",
   "id": "e83ace24",
   "metadata": {},
   "source": [
    "## PR Curve"
   ]
  },
  {
   "cell_type": "code",
   "execution_count": 140,
   "id": "ba0bc0d0",
   "metadata": {},
   "outputs": [
    {
     "data": {
      "image/png": "[encoded data removed]",
      "text/plain": [
       "<Figure size 432x288 with 1 Axes>"
      ]
     },
     "metadata": {
      "needs_background": "light"
     },
     "output_type": "display_data"
    }
   ],
   "source": [
    "## PR Curve\n",
    "precision = dict()\n",
    "recall = dict()\n",
    "for i in range(3):\n",
    "    precision[i], recall[i], _ = precision_recall_curve(pd.get_dummies(y_test).values[:, i],\n",
    "                                                        label_predicted_bert['Sentiment'][:, i])\n",
    "    plt.plot(recall[i], precision[i], lw=2, label='class {}'.format(i))\n",
    "plt.xlabel(\"recall\")\n",
    "plt.ylabel(\"precision\")\n",
    "plt.legend(loc=\"best\")\n",
    "plt.title(\"precision vs. recall curve\")\n",
    "plt.show()"
   ]
  },
  {
   "cell_type": "code",
   "execution_count": 120,
   "id": "84bcb27a",
   "metadata": {},
   "outputs": [
    {
     "data": {
      "image/png": "[encoded data removed]",
      "text/plain": [
       "<Figure size 432x288 with 1 Axes>"
      ]
     },
     "metadata": {
      "needs_background": "light"
     },
     "output_type": "display_data"
    }
   ],
   "source": [
    "## PR Curve\n",
    "precision = dict()\n",
    "recall = dict()\n",
    "for i in range(3):\n",
    "    precision[i], recall[i], _ = precision_recall_curve(pd.get_dummies(y_test).values[:, i],\n",
    "                                                        label_predicted_albert['Sentiment'][:, i])\n",
    "    plt.plot(recall[i], precision[i], lw=2, label='class {}'.format(i))\n",
    "plt.xlabel(\"recall\")\n",
    "plt.ylabel(\"precision\")\n",
    "plt.legend(loc=\"best\")\n",
    "plt.title(\"precision vs. recall curve\")\n",
    "plt.show()"
   ]
  },
  {
   "cell_type": "code",
   "execution_count": 121,
   "id": "2e9c28d0",
   "metadata": {},
   "outputs": [
    {
     "data": {
      "image/png": "[encoded data removed]",
      "text/plain": [
       "<Figure size 432x288 with 1 Axes>"
      ]
     },
     "metadata": {
      "needs_background": "light"
     },
     "output_type": "display_data"
    }
   ],
   "source": [
    "## PR Curve\n",
    "precision = dict()\n",
    "recall = dict()\n",
    "for i in range(3):\n",
    "    precision[i], recall[i], _ = precision_recall_curve(pd.get_dummies(y_test).values[:, i],\n",
    "                                                        label_predicted_roberta['Sentiment'][:, i])\n",
    "    plt.plot(recall[i], precision[i], lw=2, label='class {}'.format(i))\n",
    "plt.xlabel(\"recall\")\n",
    "plt.ylabel(\"precision\")\n",
    "plt.legend(loc=\"best\")\n",
    "plt.title(\"precision vs. recall curve\")\n",
    "plt.show()"
   ]
  },
  {
   "cell_type": "code",
   "execution_count": null,
   "id": "a660d5d1",
   "metadata": {},
   "outputs": [],
   "source": []
  }
 ],
 "metadata": {
  "kernelspec": {
   "display_name": "Python 3 (ipykernel)",
   "language": "python",
   "name": "python3"
  },
  "language_info": {
   "codemirror_mode": {
    "name": "ipython",
    "version": 3
   },
   "file_extension": ".py",
   "mimetype": "text/x-python",
   "name": "python",
   "nbconvert_exporter": "python",
   "pygments_lexer": "ipython3",
   "version": "3.9.7"
  },
  "toc": {
   "base_numbering": 1,
   "nav_menu": {},
   "number_sections": true,
   "sideBar": true,
   "skip_h1_title": false,
   "title_cell": "Table of Contents",
   "title_sidebar": "Contents",
   "toc_cell": false,
   "toc_position": {},
   "toc_section_display": true,
   "toc_window_display": true
  }
 },
 "nbformat": 4,
 "nbformat_minor": 5
}
