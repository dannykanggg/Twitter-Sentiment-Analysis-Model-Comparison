{
 "cells": [
  {
   "cell_type": "markdown",
   "id": "f103b3ff",
   "metadata": {},
   "source": [
    "## Description"
   ]
  },
  {
   "cell_type": "markdown",
   "id": "fbd1e12e",
   "metadata": {},
   "source": [
    "# Import Libraries"
   ]
  },
  {
   "cell_type": "code",
   "execution_count": 1,
   "id": "6a083008",
   "metadata": {},
   "outputs": [],
   "source": [
    "import pandas as pd\n",
    "import numpy as np\n",
    "import math\n",
    "pd.set_option('display.max_columns',None)\n",
    "import re\n",
    "import nltk\n",
    "from bs4 import BeautifulSoup\n",
    "from nltk.corpus import stopwords\n",
    "from nltk.stem.wordnet import WordNetLemmatizer\n",
    "from nltk.tokenize import word_tokenize\n",
    "from nltk.stem import PorterStemmer\n",
    "from sklearn.model_selection import train_test_split\n",
    "from nltk.sentiment.vader import SentimentIntensityAnalyzer\n",
    "from sklearn.feature_extraction.text import CountVectorizer, TfidfVectorizer\n",
    "from sklearn.metrics import accuracy_score, precision_score, recall_score, f1_score, roc_auc_score, precision_recall_curve, plot_precision_recall_curve\n",
    "from pprint import pprint\n",
    "from sklearn.model_selection import train_test_split\n",
    "import matplotlib.pyplot as plt\n",
    "import seaborn as sns"
   ]
  },
  {
   "cell_type": "markdown",
   "id": "38d4ebe6",
   "metadata": {},
   "source": [
    "Download necessary libraries"
   ]
  },
  {
   "cell_type": "code",
   "execution_count": 2,
   "id": "ce69fa6a",
   "metadata": {},
   "outputs": [],
   "source": [
    "#nltk.download('wordnet')\n",
    "#nltk.download('omw-1.4')\n",
    "#nltk.download('vader_lexicon')"
   ]
  },
  {
   "cell_type": "markdown",
   "id": "f7375813",
   "metadata": {},
   "source": [
    "## Read Data"
   ]
  },
  {
   "cell_type": "code",
   "execution_count": 3,
   "id": "d38bf355",
   "metadata": {},
   "outputs": [],
   "source": [
    "train_df = pd.read_csv(\"../data/Twitter/twitter_training.csv\",header=None)\n",
    "test_df = pd.read_csv(\"../data/Twitter/twitter_validation.csv\",header=None)\n",
    "train_df.columns = ['number','topic','sentiment','tweet']\n",
    "test_df.columns = ['number','topic','sentiment','tweet']"
   ]
  },
  {
   "cell_type": "code",
   "execution_count": 4,
   "id": "f165dfae",
   "metadata": {
    "scrolled": true
   },
   "outputs": [
    {
     "data": {
      "text/html": [
       "<div>\n",
       "<style scoped>\n",
       "    .dataframe tbody tr th:only-of-type {\n",
       "        vertical-align: middle;\n",
       "    }\n",
       "\n",
       "    .dataframe tbody tr th {\n",
       "        vertical-align: top;\n",
       "    }\n",
       "\n",
       "    .dataframe thead th {\n",
       "        text-align: right;\n",
       "    }\n",
       "</style>\n",
       "<table border=\"1\" class=\"dataframe\">\n",
       "  <thead>\n",
       "    <tr style=\"text-align: right;\">\n",
       "      <th></th>\n",
       "      <th>number</th>\n",
       "      <th>topic</th>\n",
       "      <th>sentiment</th>\n",
       "      <th>tweet</th>\n",
       "    </tr>\n",
       "  </thead>\n",
       "  <tbody>\n",
       "    <tr>\n",
       "      <th>0</th>\n",
       "      <td>2401</td>\n",
       "      <td>Borderlands</td>\n",
       "      <td>Positive</td>\n",
       "      <td>im getting on borderlands and i will murder yo...</td>\n",
       "    </tr>\n",
       "    <tr>\n",
       "      <th>1</th>\n",
       "      <td>2401</td>\n",
       "      <td>Borderlands</td>\n",
       "      <td>Positive</td>\n",
       "      <td>I am coming to the borders and I will kill you...</td>\n",
       "    </tr>\n",
       "    <tr>\n",
       "      <th>2</th>\n",
       "      <td>2401</td>\n",
       "      <td>Borderlands</td>\n",
       "      <td>Positive</td>\n",
       "      <td>im getting on borderlands and i will kill you ...</td>\n",
       "    </tr>\n",
       "    <tr>\n",
       "      <th>3</th>\n",
       "      <td>2401</td>\n",
       "      <td>Borderlands</td>\n",
       "      <td>Positive</td>\n",
       "      <td>im coming on borderlands and i will murder you...</td>\n",
       "    </tr>\n",
       "    <tr>\n",
       "      <th>4</th>\n",
       "      <td>2401</td>\n",
       "      <td>Borderlands</td>\n",
       "      <td>Positive</td>\n",
       "      <td>im getting on borderlands 2 and i will murder ...</td>\n",
       "    </tr>\n",
       "  </tbody>\n",
       "</table>\n",
       "</div>"
      ],
      "text/plain": [
       "   number        topic sentiment  \\\n",
       "0    2401  Borderlands  Positive   \n",
       "1    2401  Borderlands  Positive   \n",
       "2    2401  Borderlands  Positive   \n",
       "3    2401  Borderlands  Positive   \n",
       "4    2401  Borderlands  Positive   \n",
       "\n",
       "                                               tweet  \n",
       "0  im getting on borderlands and i will murder yo...  \n",
       "1  I am coming to the borders and I will kill you...  \n",
       "2  im getting on borderlands and i will kill you ...  \n",
       "3  im coming on borderlands and i will murder you...  \n",
       "4  im getting on borderlands 2 and i will murder ...  "
      ]
     },
     "execution_count": 4,
     "metadata": {},
     "output_type": "execute_result"
    }
   ],
   "source": [
    "train_df.head()"
   ]
  },
  {
   "cell_type": "code",
   "execution_count": 5,
   "id": "f3d08c83",
   "metadata": {},
   "outputs": [
    {
     "data": {
      "text/html": [
       "<div>\n",
       "<style scoped>\n",
       "    .dataframe tbody tr th:only-of-type {\n",
       "        vertical-align: middle;\n",
       "    }\n",
       "\n",
       "    .dataframe tbody tr th {\n",
       "        vertical-align: top;\n",
       "    }\n",
       "\n",
       "    .dataframe thead th {\n",
       "        text-align: right;\n",
       "    }\n",
       "</style>\n",
       "<table border=\"1\" class=\"dataframe\">\n",
       "  <thead>\n",
       "    <tr style=\"text-align: right;\">\n",
       "      <th></th>\n",
       "      <th>number</th>\n",
       "      <th>topic</th>\n",
       "      <th>sentiment</th>\n",
       "      <th>tweet</th>\n",
       "    </tr>\n",
       "  </thead>\n",
       "  <tbody>\n",
       "    <tr>\n",
       "      <th>0</th>\n",
       "      <td>3364</td>\n",
       "      <td>Facebook</td>\n",
       "      <td>Irrelevant</td>\n",
       "      <td>I mentioned on Facebook that I was struggling ...</td>\n",
       "    </tr>\n",
       "    <tr>\n",
       "      <th>1</th>\n",
       "      <td>352</td>\n",
       "      <td>Amazon</td>\n",
       "      <td>Neutral</td>\n",
       "      <td>BBC News - Amazon boss Jeff Bezos rejects clai...</td>\n",
       "    </tr>\n",
       "    <tr>\n",
       "      <th>2</th>\n",
       "      <td>8312</td>\n",
       "      <td>Microsoft</td>\n",
       "      <td>Negative</td>\n",
       "      <td>@Microsoft Why do I pay for WORD when it funct...</td>\n",
       "    </tr>\n",
       "    <tr>\n",
       "      <th>3</th>\n",
       "      <td>4371</td>\n",
       "      <td>CS-GO</td>\n",
       "      <td>Negative</td>\n",
       "      <td>CSGO matchmaking is so full of closet hacking,...</td>\n",
       "    </tr>\n",
       "    <tr>\n",
       "      <th>4</th>\n",
       "      <td>4433</td>\n",
       "      <td>Google</td>\n",
       "      <td>Neutral</td>\n",
       "      <td>Now the President is slapping Americans in the...</td>\n",
       "    </tr>\n",
       "  </tbody>\n",
       "</table>\n",
       "</div>"
      ],
      "text/plain": [
       "   number      topic   sentiment  \\\n",
       "0    3364   Facebook  Irrelevant   \n",
       "1     352     Amazon     Neutral   \n",
       "2    8312  Microsoft    Negative   \n",
       "3    4371      CS-GO    Negative   \n",
       "4    4433     Google     Neutral   \n",
       "\n",
       "                                               tweet  \n",
       "0  I mentioned on Facebook that I was struggling ...  \n",
       "1  BBC News - Amazon boss Jeff Bezos rejects clai...  \n",
       "2  @Microsoft Why do I pay for WORD when it funct...  \n",
       "3  CSGO matchmaking is so full of closet hacking,...  \n",
       "4  Now the President is slapping Americans in the...  "
      ]
     },
     "execution_count": 5,
     "metadata": {},
     "output_type": "execute_result"
    }
   ],
   "source": [
    "test_df.head()"
   ]
  },
  {
   "cell_type": "markdown",
   "id": "8053a4d1",
   "metadata": {},
   "source": [
    "## Short Data Summary"
   ]
  },
  {
   "cell_type": "code",
   "execution_count": 6,
   "id": "e1242510",
   "metadata": {},
   "outputs": [
    {
     "data": {
      "text/plain": [
       "((74682, 4), (1000, 4))"
      ]
     },
     "execution_count": 6,
     "metadata": {},
     "output_type": "execute_result"
    }
   ],
   "source": [
    "train_df.shape, test_df.shape"
   ]
  },
  {
   "cell_type": "code",
   "execution_count": 7,
   "id": "a8351b54",
   "metadata": {},
   "outputs": [
    {
     "data": {
      "text/plain": [
       "(array(['Positive', 'Neutral', 'Negative', 'Irrelevant'], dtype=object),\n",
       " array(['Irrelevant', 'Neutral', 'Negative', 'Positive'], dtype=object))"
      ]
     },
     "execution_count": 7,
     "metadata": {},
     "output_type": "execute_result"
    }
   ],
   "source": [
    "train_df.sentiment.unique(), test_df.sentiment.unique()"
   ]
  },
  {
   "cell_type": "code",
   "execution_count": 8,
   "id": "6699e7b0",
   "metadata": {},
   "outputs": [
    {
     "data": {
      "text/html": [
       "<div>\n",
       "<style scoped>\n",
       "    .dataframe tbody tr th:only-of-type {\n",
       "        vertical-align: middle;\n",
       "    }\n",
       "\n",
       "    .dataframe tbody tr th {\n",
       "        vertical-align: top;\n",
       "    }\n",
       "\n",
       "    .dataframe thead th {\n",
       "        text-align: right;\n",
       "    }\n",
       "</style>\n",
       "<table border=\"1\" class=\"dataframe\">\n",
       "  <thead>\n",
       "    <tr style=\"text-align: right;\">\n",
       "      <th></th>\n",
       "      <th>number</th>\n",
       "      <th>topic</th>\n",
       "      <th>tweet</th>\n",
       "    </tr>\n",
       "    <tr>\n",
       "      <th>sentiment</th>\n",
       "      <th></th>\n",
       "      <th></th>\n",
       "      <th></th>\n",
       "    </tr>\n",
       "  </thead>\n",
       "  <tbody>\n",
       "    <tr>\n",
       "      <th>Irrelevant</th>\n",
       "      <td>12990</td>\n",
       "      <td>12990</td>\n",
       "      <td>12875</td>\n",
       "    </tr>\n",
       "    <tr>\n",
       "      <th>Negative</th>\n",
       "      <td>22542</td>\n",
       "      <td>22542</td>\n",
       "      <td>22358</td>\n",
       "    </tr>\n",
       "    <tr>\n",
       "      <th>Neutral</th>\n",
       "      <td>18318</td>\n",
       "      <td>18318</td>\n",
       "      <td>18108</td>\n",
       "    </tr>\n",
       "    <tr>\n",
       "      <th>Positive</th>\n",
       "      <td>20832</td>\n",
       "      <td>20832</td>\n",
       "      <td>20655</td>\n",
       "    </tr>\n",
       "  </tbody>\n",
       "</table>\n",
       "</div>"
      ],
      "text/plain": [
       "            number  topic  tweet\n",
       "sentiment                       \n",
       "Irrelevant   12990  12990  12875\n",
       "Negative     22542  22542  22358\n",
       "Neutral      18318  18318  18108\n",
       "Positive     20832  20832  20655"
      ]
     },
     "execution_count": 8,
     "metadata": {},
     "output_type": "execute_result"
    }
   ],
   "source": [
    "train_df.groupby(\"sentiment\").count()"
   ]
  },
  {
   "cell_type": "code",
   "execution_count": 9,
   "id": "05db6a41",
   "metadata": {
    "scrolled": false
   },
   "outputs": [
    {
     "data": {
      "image/png": "[encoded data removed]",
      "text/plain": [
       "<Figure size 864x576 with 1 Axes>"
      ]
     },
     "metadata": {
      "needs_background": "light"
     },
     "output_type": "display_data"
    }
   ],
   "source": [
    "fig,ax = plt.subplots(figsize=(12,8))\n",
    "sns.barplot(data=train_df.groupby('sentiment').count().reset_index(), x='sentiment', y='tweet',ax = ax)\n",
    "plt.title(\"Train Data\")\n",
    "plt.show()\n",
    "plt.close()"
   ]
  },
  {
   "cell_type": "code",
   "execution_count": 10,
   "id": "28844ea9",
   "metadata": {
    "scrolled": true
   },
   "outputs": [
    {
     "data": {
      "image/png": "[encoded data removed]",
      "text/plain": [
       "<Figure size 864x576 with 1 Axes>"
      ]
     },
     "metadata": {
      "needs_background": "light"
     },
     "output_type": "display_data"
    }
   ],
   "source": [
    "fig,ax = plt.subplots(figsize=(12,8))\n",
    "sns.barplot(data=test_df.groupby('sentiment').count().reset_index(), x='sentiment', y='tweet',ax = ax)\n",
    "plt.title(\"Test Data\")\n",
    "plt.show()\n",
    "plt.close()"
   ]
  },
  {
   "cell_type": "markdown",
   "id": "5b0b4a55",
   "metadata": {},
   "source": [
    "### Data Preprocessing - encode sentiment // keep only sentiment &tweet"
   ]
  },
  {
   "cell_type": "code",
   "execution_count": 11,
   "id": "77a3c36b",
   "metadata": {
    "scrolled": true
   },
   "outputs": [
    {
     "data": {
      "text/html": [
       "<div>\n",
       "<style scoped>\n",
       "    .dataframe tbody tr th:only-of-type {\n",
       "        vertical-align: middle;\n",
       "    }\n",
       "\n",
       "    .dataframe tbody tr th {\n",
       "        vertical-align: top;\n",
       "    }\n",
       "\n",
       "    .dataframe thead th {\n",
       "        text-align: right;\n",
       "    }\n",
       "</style>\n",
       "<table border=\"1\" class=\"dataframe\">\n",
       "  <thead>\n",
       "    <tr style=\"text-align: right;\">\n",
       "      <th></th>\n",
       "      <th>number</th>\n",
       "      <th>topic</th>\n",
       "      <th>sentiment</th>\n",
       "      <th>tweet</th>\n",
       "    </tr>\n",
       "  </thead>\n",
       "  <tbody>\n",
       "    <tr>\n",
       "      <th>0</th>\n",
       "      <td>2401</td>\n",
       "      <td>Borderlands</td>\n",
       "      <td>Positive</td>\n",
       "      <td>im getting on borderlands and i will murder yo...</td>\n",
       "    </tr>\n",
       "    <tr>\n",
       "      <th>1</th>\n",
       "      <td>2401</td>\n",
       "      <td>Borderlands</td>\n",
       "      <td>Positive</td>\n",
       "      <td>I am coming to the borders and I will kill you...</td>\n",
       "    </tr>\n",
       "    <tr>\n",
       "      <th>2</th>\n",
       "      <td>2401</td>\n",
       "      <td>Borderlands</td>\n",
       "      <td>Positive</td>\n",
       "      <td>im getting on borderlands and i will kill you ...</td>\n",
       "    </tr>\n",
       "    <tr>\n",
       "      <th>3</th>\n",
       "      <td>2401</td>\n",
       "      <td>Borderlands</td>\n",
       "      <td>Positive</td>\n",
       "      <td>im coming on borderlands and i will murder you...</td>\n",
       "    </tr>\n",
       "    <tr>\n",
       "      <th>4</th>\n",
       "      <td>2401</td>\n",
       "      <td>Borderlands</td>\n",
       "      <td>Positive</td>\n",
       "      <td>im getting on borderlands 2 and i will murder ...</td>\n",
       "    </tr>\n",
       "  </tbody>\n",
       "</table>\n",
       "</div>"
      ],
      "text/plain": [
       "   number        topic sentiment  \\\n",
       "0    2401  Borderlands  Positive   \n",
       "1    2401  Borderlands  Positive   \n",
       "2    2401  Borderlands  Positive   \n",
       "3    2401  Borderlands  Positive   \n",
       "4    2401  Borderlands  Positive   \n",
       "\n",
       "                                               tweet  \n",
       "0  im getting on borderlands and i will murder yo...  \n",
       "1  I am coming to the borders and I will kill you...  \n",
       "2  im getting on borderlands and i will kill you ...  \n",
       "3  im coming on borderlands and i will murder you...  \n",
       "4  im getting on borderlands 2 and i will murder ...  "
      ]
     },
     "execution_count": 11,
     "metadata": {},
     "output_type": "execute_result"
    }
   ],
   "source": [
    "train_df.head()"
   ]
  },
  {
   "cell_type": "code",
   "execution_count": 12,
   "id": "89848367",
   "metadata": {
    "scrolled": true
   },
   "outputs": [
    {
     "data": {
      "text/html": [
       "<div>\n",
       "<style scoped>\n",
       "    .dataframe tbody tr th:only-of-type {\n",
       "        vertical-align: middle;\n",
       "    }\n",
       "\n",
       "    .dataframe tbody tr th {\n",
       "        vertical-align: top;\n",
       "    }\n",
       "\n",
       "    .dataframe thead th {\n",
       "        text-align: right;\n",
       "    }\n",
       "</style>\n",
       "<table border=\"1\" class=\"dataframe\">\n",
       "  <thead>\n",
       "    <tr style=\"text-align: right;\">\n",
       "      <th></th>\n",
       "      <th>number</th>\n",
       "      <th>topic</th>\n",
       "      <th>sentiment</th>\n",
       "      <th>tweet</th>\n",
       "    </tr>\n",
       "  </thead>\n",
       "  <tbody>\n",
       "    <tr>\n",
       "      <th>0</th>\n",
       "      <td>3364</td>\n",
       "      <td>Facebook</td>\n",
       "      <td>Irrelevant</td>\n",
       "      <td>I mentioned on Facebook that I was struggling ...</td>\n",
       "    </tr>\n",
       "    <tr>\n",
       "      <th>1</th>\n",
       "      <td>352</td>\n",
       "      <td>Amazon</td>\n",
       "      <td>Neutral</td>\n",
       "      <td>BBC News - Amazon boss Jeff Bezos rejects clai...</td>\n",
       "    </tr>\n",
       "    <tr>\n",
       "      <th>2</th>\n",
       "      <td>8312</td>\n",
       "      <td>Microsoft</td>\n",
       "      <td>Negative</td>\n",
       "      <td>@Microsoft Why do I pay for WORD when it funct...</td>\n",
       "    </tr>\n",
       "    <tr>\n",
       "      <th>3</th>\n",
       "      <td>4371</td>\n",
       "      <td>CS-GO</td>\n",
       "      <td>Negative</td>\n",
       "      <td>CSGO matchmaking is so full of closet hacking,...</td>\n",
       "    </tr>\n",
       "    <tr>\n",
       "      <th>4</th>\n",
       "      <td>4433</td>\n",
       "      <td>Google</td>\n",
       "      <td>Neutral</td>\n",
       "      <td>Now the President is slapping Americans in the...</td>\n",
       "    </tr>\n",
       "  </tbody>\n",
       "</table>\n",
       "</div>"
      ],
      "text/plain": [
       "   number      topic   sentiment  \\\n",
       "0    3364   Facebook  Irrelevant   \n",
       "1     352     Amazon     Neutral   \n",
       "2    8312  Microsoft    Negative   \n",
       "3    4371      CS-GO    Negative   \n",
       "4    4433     Google     Neutral   \n",
       "\n",
       "                                               tweet  \n",
       "0  I mentioned on Facebook that I was struggling ...  \n",
       "1  BBC News - Amazon boss Jeff Bezos rejects clai...  \n",
       "2  @Microsoft Why do I pay for WORD when it funct...  \n",
       "3  CSGO matchmaking is so full of closet hacking,...  \n",
       "4  Now the President is slapping Americans in the...  "
      ]
     },
     "execution_count": 12,
     "metadata": {},
     "output_type": "execute_result"
    }
   ],
   "source": [
    "test_df.head()"
   ]
  },
  {
   "cell_type": "code",
   "execution_count": 13,
   "id": "645ff6b4",
   "metadata": {
    "scrolled": false
   },
   "outputs": [
    {
     "data": {
      "text/html": [
       "<div>\n",
       "<style scoped>\n",
       "    .dataframe tbody tr th:only-of-type {\n",
       "        vertical-align: middle;\n",
       "    }\n",
       "\n",
       "    .dataframe tbody tr th {\n",
       "        vertical-align: top;\n",
       "    }\n",
       "\n",
       "    .dataframe thead th {\n",
       "        text-align: right;\n",
       "    }\n",
       "</style>\n",
       "<table border=\"1\" class=\"dataframe\">\n",
       "  <thead>\n",
       "    <tr style=\"text-align: right;\">\n",
       "      <th></th>\n",
       "      <th>number</th>\n",
       "      <th>topic</th>\n",
       "      <th>tweet</th>\n",
       "    </tr>\n",
       "    <tr>\n",
       "      <th>sentiment</th>\n",
       "      <th></th>\n",
       "      <th></th>\n",
       "      <th></th>\n",
       "    </tr>\n",
       "  </thead>\n",
       "  <tbody>\n",
       "    <tr>\n",
       "      <th>Irrelevant</th>\n",
       "      <td>12990</td>\n",
       "      <td>12990</td>\n",
       "      <td>12875</td>\n",
       "    </tr>\n",
       "    <tr>\n",
       "      <th>Negative</th>\n",
       "      <td>22542</td>\n",
       "      <td>22542</td>\n",
       "      <td>22358</td>\n",
       "    </tr>\n",
       "    <tr>\n",
       "      <th>Neutral</th>\n",
       "      <td>18318</td>\n",
       "      <td>18318</td>\n",
       "      <td>18108</td>\n",
       "    </tr>\n",
       "    <tr>\n",
       "      <th>Positive</th>\n",
       "      <td>20832</td>\n",
       "      <td>20832</td>\n",
       "      <td>20655</td>\n",
       "    </tr>\n",
       "  </tbody>\n",
       "</table>\n",
       "</div>"
      ],
      "text/plain": [
       "            number  topic  tweet\n",
       "sentiment                       \n",
       "Irrelevant   12990  12990  12875\n",
       "Negative     22542  22542  22358\n",
       "Neutral      18318  18318  18108\n",
       "Positive     20832  20832  20655"
      ]
     },
     "execution_count": 13,
     "metadata": {},
     "output_type": "execute_result"
    }
   ],
   "source": [
    "train_df.groupby('sentiment').count()"
   ]
  },
  {
   "cell_type": "code",
   "execution_count": 14,
   "id": "67fdc41f",
   "metadata": {
    "scrolled": false
   },
   "outputs": [
    {
     "data": {
      "text/html": [
       "<div>\n",
       "<style scoped>\n",
       "    .dataframe tbody tr th:only-of-type {\n",
       "        vertical-align: middle;\n",
       "    }\n",
       "\n",
       "    .dataframe tbody tr th {\n",
       "        vertical-align: top;\n",
       "    }\n",
       "\n",
       "    .dataframe thead th {\n",
       "        text-align: right;\n",
       "    }\n",
       "</style>\n",
       "<table border=\"1\" class=\"dataframe\">\n",
       "  <thead>\n",
       "    <tr style=\"text-align: right;\">\n",
       "      <th></th>\n",
       "      <th>number</th>\n",
       "      <th>topic</th>\n",
       "      <th>tweet</th>\n",
       "    </tr>\n",
       "    <tr>\n",
       "      <th>sentiment</th>\n",
       "      <th></th>\n",
       "      <th></th>\n",
       "      <th></th>\n",
       "    </tr>\n",
       "  </thead>\n",
       "  <tbody>\n",
       "    <tr>\n",
       "      <th>Irrelevant</th>\n",
       "      <td>172</td>\n",
       "      <td>172</td>\n",
       "      <td>172</td>\n",
       "    </tr>\n",
       "    <tr>\n",
       "      <th>Negative</th>\n",
       "      <td>266</td>\n",
       "      <td>266</td>\n",
       "      <td>266</td>\n",
       "    </tr>\n",
       "    <tr>\n",
       "      <th>Neutral</th>\n",
       "      <td>285</td>\n",
       "      <td>285</td>\n",
       "      <td>285</td>\n",
       "    </tr>\n",
       "    <tr>\n",
       "      <th>Positive</th>\n",
       "      <td>277</td>\n",
       "      <td>277</td>\n",
       "      <td>277</td>\n",
       "    </tr>\n",
       "  </tbody>\n",
       "</table>\n",
       "</div>"
      ],
      "text/plain": [
       "            number  topic  tweet\n",
       "sentiment                       \n",
       "Irrelevant     172    172    172\n",
       "Negative       266    266    266\n",
       "Neutral        285    285    285\n",
       "Positive       277    277    277"
      ]
     },
     "execution_count": 14,
     "metadata": {},
     "output_type": "execute_result"
    }
   ],
   "source": [
    "test_df.groupby('sentiment').count()"
   ]
  },
  {
   "cell_type": "code",
   "execution_count": 15,
   "id": "c8972aec",
   "metadata": {},
   "outputs": [
    {
     "data": {
      "text/html": [
       "<div>\n",
       "<style scoped>\n",
       "    .dataframe tbody tr th:only-of-type {\n",
       "        vertical-align: middle;\n",
       "    }\n",
       "\n",
       "    .dataframe tbody tr th {\n",
       "        vertical-align: top;\n",
       "    }\n",
       "\n",
       "    .dataframe thead th {\n",
       "        text-align: right;\n",
       "    }\n",
       "</style>\n",
       "<table border=\"1\" class=\"dataframe\">\n",
       "  <thead>\n",
       "    <tr style=\"text-align: right;\">\n",
       "      <th></th>\n",
       "      <th>number</th>\n",
       "      <th>topic</th>\n",
       "      <th>sentiment</th>\n",
       "      <th>tweet</th>\n",
       "    </tr>\n",
       "  </thead>\n",
       "  <tbody>\n",
       "    <tr>\n",
       "      <th>0</th>\n",
       "      <td>2401</td>\n",
       "      <td>Borderlands</td>\n",
       "      <td>Positive</td>\n",
       "      <td>im getting on borderlands and i will murder yo...</td>\n",
       "    </tr>\n",
       "    <tr>\n",
       "      <th>1</th>\n",
       "      <td>2401</td>\n",
       "      <td>Borderlands</td>\n",
       "      <td>Positive</td>\n",
       "      <td>I am coming to the borders and I will kill you...</td>\n",
       "    </tr>\n",
       "    <tr>\n",
       "      <th>2</th>\n",
       "      <td>2401</td>\n",
       "      <td>Borderlands</td>\n",
       "      <td>Positive</td>\n",
       "      <td>im getting on borderlands and i will kill you ...</td>\n",
       "    </tr>\n",
       "    <tr>\n",
       "      <th>3</th>\n",
       "      <td>2401</td>\n",
       "      <td>Borderlands</td>\n",
       "      <td>Positive</td>\n",
       "      <td>im coming on borderlands and i will murder you...</td>\n",
       "    </tr>\n",
       "    <tr>\n",
       "      <th>4</th>\n",
       "      <td>2401</td>\n",
       "      <td>Borderlands</td>\n",
       "      <td>Positive</td>\n",
       "      <td>im getting on borderlands 2 and i will murder ...</td>\n",
       "    </tr>\n",
       "  </tbody>\n",
       "</table>\n",
       "</div>"
      ],
      "text/plain": [
       "   number        topic sentiment  \\\n",
       "0    2401  Borderlands  Positive   \n",
       "1    2401  Borderlands  Positive   \n",
       "2    2401  Borderlands  Positive   \n",
       "3    2401  Borderlands  Positive   \n",
       "4    2401  Borderlands  Positive   \n",
       "\n",
       "                                               tweet  \n",
       "0  im getting on borderlands and i will murder yo...  \n",
       "1  I am coming to the borders and I will kill you...  \n",
       "2  im getting on borderlands and i will kill you ...  \n",
       "3  im coming on borderlands and i will murder you...  \n",
       "4  im getting on borderlands 2 and i will murder ...  "
      ]
     },
     "execution_count": 15,
     "metadata": {},
     "output_type": "execute_result"
    }
   ],
   "source": [
    "train_df.head()"
   ]
  },
  {
   "cell_type": "code",
   "execution_count": 16,
   "id": "8d5ea732",
   "metadata": {},
   "outputs": [
    {
     "data": {
      "text/plain": [
       "array(['Positive', 'Neutral', 'Negative', 'Irrelevant'], dtype=object)"
      ]
     },
     "execution_count": 16,
     "metadata": {},
     "output_type": "execute_result"
    }
   ],
   "source": [
    "train_df.sentiment.unique()"
   ]
  },
  {
   "cell_type": "code",
   "execution_count": 17,
   "id": "4cc2a57e",
   "metadata": {},
   "outputs": [
    {
     "data": {
      "text/plain": [
       "array(['Irrelevant', 'Neutral', 'Negative', 'Positive'], dtype=object)"
      ]
     },
     "execution_count": 17,
     "metadata": {},
     "output_type": "execute_result"
    }
   ],
   "source": [
    "test_df.sentiment.unique()"
   ]
  },
  {
   "cell_type": "code",
   "execution_count": 18,
   "id": "d8e7636e",
   "metadata": {},
   "outputs": [],
   "source": [
    "def process_sentiment(df):\n",
    "    df = df[df['sentiment'].isin(['Positive','Negative'])]\n",
    "    df.loc[df.sentiment=='Positive', 'sentiment'] = 1\n",
    "    df.loc[df.sentiment=='Negative', 'sentiment'] = 0\n",
    "    df['sentiment'] = df['sentiment'].astype(int)\n",
    "    #df.drop(['number','topic'],axis=1,inplace=True)\n",
    "    return df[['tweet','sentiment']]"
   ]
  },
  {
   "cell_type": "code",
   "execution_count": 19,
   "id": "5b447825",
   "metadata": {},
   "outputs": [
    {
     "name": "stderr",
     "output_type": "stream",
     "text": [
      "/Users/dannykang/opt/anaconda3/envs/webscrap/lib/python3.9/site-packages/pandas/core/indexing.py:1817: SettingWithCopyWarning: \n",
      "A value is trying to be set on a copy of a slice from a DataFrame.\n",
      "Try using .loc[row_indexer,col_indexer] = value instead\n",
      "\n",
      "See the caveats in the documentation: https://pandas.pydata.org/pandas-docs/stable/user_guide/indexing.html#returning-a-view-versus-a-copy\n",
      "  self._setitem_single_column(loc, value, pi)\n",
      "/var/folders/f7/frkz7fzd1hd5r3hc24670dnm0000gn/T/ipykernel_19381/1113983635.py:8: SettingWithCopyWarning: \n",
      "A value is trying to be set on a copy of a slice from a DataFrame.\n",
      "Try using .loc[row_indexer,col_indexer] = value instead\n",
      "\n",
      "See the caveats in the documentation: https://pandas.pydata.org/pandas-docs/stable/user_guide/indexing.html#returning-a-view-versus-a-copy\n",
      "  df['sentiment'] = df['sentiment'].astype(int)\n"
     ]
    }
   ],
   "source": [
    "train_df = process_sentiment(train_df)\n",
    "test_df = process_sentiment(test_df)"
   ]
  },
  {
   "cell_type": "code",
   "execution_count": null,
   "id": "6d949659",
   "metadata": {},
   "outputs": [],
   "source": []
  },
  {
   "cell_type": "code",
   "execution_count": 20,
   "id": "e47dfa57",
   "metadata": {
    "scrolled": true
   },
   "outputs": [
    {
     "data": {
      "text/plain": [
       "(array([2, 1, 0]), array([1, 0, 2]))"
      ]
     },
     "execution_count": 20,
     "metadata": {},
     "output_type": "execute_result"
    }
   ],
   "source": [
    "train_df['sentiment'].unique(), test_df['sentiment'].unique()"
   ]
  },
  {
   "cell_type": "code",
   "execution_count": 21,
   "id": "dd912d2b",
   "metadata": {},
   "outputs": [
    {
     "name": "stdout",
     "output_type": "stream",
     "text": [
      "<class 'pandas.core.frame.DataFrame'>\n",
      "Int64Index: 61692 entries, 0 to 74681\n",
      "Data columns (total 2 columns):\n",
      " #   Column     Non-Null Count  Dtype \n",
      "---  ------     --------------  ----- \n",
      " 0   tweet      61121 non-null  object\n",
      " 1   sentiment  61692 non-null  int64 \n",
      "dtypes: int64(1), object(1)\n",
      "memory usage: 1.4+ MB\n"
     ]
    }
   ],
   "source": [
    "train_df.info()"
   ]
  },
  {
   "cell_type": "code",
   "execution_count": 22,
   "id": "50a1acc4",
   "metadata": {},
   "outputs": [
    {
     "name": "stdout",
     "output_type": "stream",
     "text": [
      "<class 'pandas.core.frame.DataFrame'>\n",
      "Int64Index: 828 entries, 1 to 999\n",
      "Data columns (total 2 columns):\n",
      " #   Column     Non-Null Count  Dtype \n",
      "---  ------     --------------  ----- \n",
      " 0   tweet      828 non-null    object\n",
      " 1   sentiment  828 non-null    int64 \n",
      "dtypes: int64(1), object(1)\n",
      "memory usage: 19.4+ KB\n"
     ]
    }
   ],
   "source": [
    "test_df.info()"
   ]
  },
  {
   "cell_type": "markdown",
   "id": "256f37e2",
   "metadata": {},
   "source": [
    "# Tweet Processing"
   ]
  },
  {
   "cell_type": "code",
   "execution_count": 23,
   "id": "22fc81ce",
   "metadata": {},
   "outputs": [],
   "source": [
    "# use pipeline"
   ]
  },
  {
   "cell_type": "code",
   "execution_count": 24,
   "id": "67bce0a1",
   "metadata": {},
   "outputs": [],
   "source": [
    "# define stopwords\n",
    "stop_words = set(stopwords.words('english'))\n",
    "lemmatizer = WordNetLemmatizer()"
   ]
  },
  {
   "cell_type": "code",
   "execution_count": 25,
   "id": "2dac36bf",
   "metadata": {},
   "outputs": [],
   "source": [
    "def text_process(text):\n",
    "    text = re.sub(\"[^a-zA-Z]\",\" \",str(text))\n",
    "    # convert to lower case\n",
    "    text = text.lower().split()\n",
    "    text = set([lemmatizer.lemmatize(str(x)) for x in text]) #lemmatizing\n",
    "    text = [w for w in text if not w in stop_words]\n",
    "    text = \" \".join(text)\n",
    "    return text"
   ]
  },
  {
   "cell_type": "code",
   "execution_count": 26,
   "id": "b3dda89a",
   "metadata": {},
   "outputs": [
    {
     "data": {
      "text/html": [
       "<div>\n",
       "<style scoped>\n",
       "    .dataframe tbody tr th:only-of-type {\n",
       "        vertical-align: middle;\n",
       "    }\n",
       "\n",
       "    .dataframe tbody tr th {\n",
       "        vertical-align: top;\n",
       "    }\n",
       "\n",
       "    .dataframe thead th {\n",
       "        text-align: right;\n",
       "    }\n",
       "</style>\n",
       "<table border=\"1\" class=\"dataframe\">\n",
       "  <thead>\n",
       "    <tr style=\"text-align: right;\">\n",
       "      <th></th>\n",
       "      <th>tweet</th>\n",
       "      <th>sentiment</th>\n",
       "    </tr>\n",
       "  </thead>\n",
       "  <tbody>\n",
       "    <tr>\n",
       "      <th>0</th>\n",
       "      <td>im getting on borderlands and i will murder yo...</td>\n",
       "      <td>2</td>\n",
       "    </tr>\n",
       "    <tr>\n",
       "      <th>1</th>\n",
       "      <td>I am coming to the borders and I will kill you...</td>\n",
       "      <td>2</td>\n",
       "    </tr>\n",
       "    <tr>\n",
       "      <th>2</th>\n",
       "      <td>im getting on borderlands and i will kill you ...</td>\n",
       "      <td>2</td>\n",
       "    </tr>\n",
       "    <tr>\n",
       "      <th>3</th>\n",
       "      <td>im coming on borderlands and i will murder you...</td>\n",
       "      <td>2</td>\n",
       "    </tr>\n",
       "    <tr>\n",
       "      <th>4</th>\n",
       "      <td>im getting on borderlands 2 and i will murder ...</td>\n",
       "      <td>2</td>\n",
       "    </tr>\n",
       "  </tbody>\n",
       "</table>\n",
       "</div>"
      ],
      "text/plain": [
       "                                               tweet  sentiment\n",
       "0  im getting on borderlands and i will murder yo...          2\n",
       "1  I am coming to the borders and I will kill you...          2\n",
       "2  im getting on borderlands and i will kill you ...          2\n",
       "3  im coming on borderlands and i will murder you...          2\n",
       "4  im getting on borderlands 2 and i will murder ...          2"
      ]
     },
     "execution_count": 26,
     "metadata": {},
     "output_type": "execute_result"
    }
   ],
   "source": [
    "train_df.head()"
   ]
  },
  {
   "cell_type": "code",
   "execution_count": 27,
   "id": "19f2611c",
   "metadata": {},
   "outputs": [],
   "source": [
    "train_df['tweet'] = [text_process(text) for text in train_df['tweet']]"
   ]
  },
  {
   "cell_type": "code",
   "execution_count": 28,
   "id": "c3548cbf",
   "metadata": {},
   "outputs": [],
   "source": [
    "test_df['tweet'] = [text_process(text) for text in test_df['tweet']]"
   ]
  },
  {
   "cell_type": "code",
   "execution_count": 29,
   "id": "8b971d47",
   "metadata": {},
   "outputs": [
    {
     "data": {
      "text/html": [
       "<div>\n",
       "<style scoped>\n",
       "    .dataframe tbody tr th:only-of-type {\n",
       "        vertical-align: middle;\n",
       "    }\n",
       "\n",
       "    .dataframe tbody tr th {\n",
       "        vertical-align: top;\n",
       "    }\n",
       "\n",
       "    .dataframe thead th {\n",
       "        text-align: right;\n",
       "    }\n",
       "</style>\n",
       "<table border=\"1\" class=\"dataframe\">\n",
       "  <thead>\n",
       "    <tr style=\"text-align: right;\">\n",
       "      <th></th>\n",
       "      <th>tweet</th>\n",
       "      <th>sentiment</th>\n",
       "    </tr>\n",
       "  </thead>\n",
       "  <tbody>\n",
       "    <tr>\n",
       "      <th>0</th>\n",
       "      <td>borderland im getting murder</td>\n",
       "      <td>2</td>\n",
       "    </tr>\n",
       "    <tr>\n",
       "      <th>1</th>\n",
       "      <td>border coming kill</td>\n",
       "      <td>2</td>\n",
       "    </tr>\n",
       "    <tr>\n",
       "      <th>2</th>\n",
       "      <td>borderland im getting kill</td>\n",
       "      <td>2</td>\n",
       "    </tr>\n",
       "    <tr>\n",
       "      <th>3</th>\n",
       "      <td>borderland im murder coming</td>\n",
       "      <td>2</td>\n",
       "    </tr>\n",
       "    <tr>\n",
       "      <th>4</th>\n",
       "      <td>borderland im getting murder</td>\n",
       "      <td>2</td>\n",
       "    </tr>\n",
       "  </tbody>\n",
       "</table>\n",
       "</div>"
      ],
      "text/plain": [
       "                          tweet  sentiment\n",
       "0  borderland im getting murder          2\n",
       "1            border coming kill          2\n",
       "2    borderland im getting kill          2\n",
       "3   borderland im murder coming          2\n",
       "4  borderland im getting murder          2"
      ]
     },
     "execution_count": 29,
     "metadata": {},
     "output_type": "execute_result"
    }
   ],
   "source": [
    "train_df.head()"
   ]
  },
  {
   "cell_type": "code",
   "execution_count": 30,
   "id": "0c26113d",
   "metadata": {},
   "outputs": [
    {
     "data": {
      "text/html": [
       "<div>\n",
       "<style scoped>\n",
       "    .dataframe tbody tr th:only-of-type {\n",
       "        vertical-align: middle;\n",
       "    }\n",
       "\n",
       "    .dataframe tbody tr th {\n",
       "        vertical-align: top;\n",
       "    }\n",
       "\n",
       "    .dataframe thead th {\n",
       "        text-align: right;\n",
       "    }\n",
       "</style>\n",
       "<table border=\"1\" class=\"dataframe\">\n",
       "  <thead>\n",
       "    <tr style=\"text-align: right;\">\n",
       "      <th></th>\n",
       "      <th>tweet</th>\n",
       "      <th>sentiment</th>\n",
       "    </tr>\n",
       "  </thead>\n",
       "  <tbody>\n",
       "    <tr>\n",
       "      <th>1</th>\n",
       "      <td>drug bezos news claim acted like jeff amazon r...</td>\n",
       "      <td>1</td>\n",
       "    </tr>\n",
       "    <tr>\n",
       "      <th>2</th>\n",
       "      <td>poorly microsoft samsungus function pay chrome...</td>\n",
       "      <td>0</td>\n",
       "    </tr>\n",
       "    <tr>\n",
       "      <th>3</th>\n",
       "      <td>truly hacking awful full matchmaking closet cs...</td>\n",
       "      <td>0</td>\n",
       "    </tr>\n",
       "    <tr>\n",
       "      <th>4</th>\n",
       "      <td>president discover commit acquittal slapping g...</td>\n",
       "      <td>1</td>\n",
       "    </tr>\n",
       "    <tr>\n",
       "      <th>5</th>\n",
       "      <td>fifa whilst working please help past hi card a...</td>\n",
       "      <td>0</td>\n",
       "    </tr>\n",
       "  </tbody>\n",
       "</table>\n",
       "</div>"
      ],
      "text/plain": [
       "                                               tweet  sentiment\n",
       "1  drug bezos news claim acted like jeff amazon r...          1\n",
       "2  poorly microsoft samsungus function pay chrome...          0\n",
       "3  truly hacking awful full matchmaking closet cs...          0\n",
       "4  president discover commit acquittal slapping g...          1\n",
       "5  fifa whilst working please help past hi card a...          0"
      ]
     },
     "execution_count": 30,
     "metadata": {},
     "output_type": "execute_result"
    }
   ],
   "source": [
    "test_df.head()"
   ]
  },
  {
   "cell_type": "markdown",
   "id": "86b0067c",
   "metadata": {},
   "source": [
    "# Train Test Split"
   ]
  },
  {
   "cell_type": "code",
   "execution_count": 31,
   "id": "52f9aef4",
   "metadata": {},
   "outputs": [],
   "source": [
    "X = train_df[\"tweet\"]\n",
    "Y = train_df[\"sentiment\"]"
   ]
  },
  {
   "cell_type": "code",
   "execution_count": 32,
   "id": "19cacfd1",
   "metadata": {},
   "outputs": [],
   "source": [
    "train_X,valid_X, train_Y,valid_Y = train_test_split(X,\n",
    "    Y, test_size=0.33,random_state=100)"
   ]
  },
  {
   "cell_type": "code",
   "execution_count": 33,
   "id": "ab5175b8",
   "metadata": {},
   "outputs": [],
   "source": [
    "test_X,test_Y = test_df['tweet'], test_df['sentiment']"
   ]
  },
  {
   "cell_type": "code",
   "execution_count": 34,
   "id": "503db4f7",
   "metadata": {},
   "outputs": [
    {
     "data": {
      "text/plain": [
       "29752                         give crumb u lobalore please\n",
       "55455                       call spire slay decision honor\n",
       "70262                      loot ghostrecon sometimes worth\n",
       "43453                                                  wow\n",
       "7687     streaming overwatch hanging care arse console ...\n",
       "                               ...                        \n",
       "14933                           playing damn blackout dota\n",
       "70067                                                     \n",
       "17345       someone like stuck look p microwave around far\n",
       "68652    cdprojektred need love always supporting cant ...\n",
       "47324                     depot beating go home flamboyant\n",
       "Name: tweet, Length: 41333, dtype: object"
      ]
     },
     "execution_count": 34,
     "metadata": {},
     "output_type": "execute_result"
    }
   ],
   "source": [
    "train_X"
   ]
  },
  {
   "cell_type": "code",
   "execution_count": 35,
   "id": "bc3c100f",
   "metadata": {},
   "outputs": [],
   "source": [
    "tfidf = TfidfVectorizer()\n",
    "train_X = tfidf.fit_transform(train_X).toarray()\n",
    "valid_X = tfidf.transform(valid_X).toarray()\n",
    "test_X = tfidf.transform(test_X).toarray()"
   ]
  },
  {
   "cell_type": "code",
   "execution_count": 36,
   "id": "b7011d22",
   "metadata": {
    "scrolled": true
   },
   "outputs": [
    {
     "data": {
      "text/plain": [
       "array([[0., 0., 0., ..., 0., 0., 0.],\n",
       "       [0., 0., 0., ..., 0., 0., 0.],\n",
       "       [0., 0., 0., ..., 0., 0., 0.],\n",
       "       ...,\n",
       "       [0., 0., 0., ..., 0., 0., 0.],\n",
       "       [0., 0., 0., ..., 0., 0., 0.],\n",
       "       [0., 0., 0., ..., 0., 0., 0.]])"
      ]
     },
     "execution_count": 36,
     "metadata": {},
     "output_type": "execute_result"
    }
   ],
   "source": [
    "train_X"
   ]
  },
  {
   "cell_type": "markdown",
   "id": "bc7990d8",
   "metadata": {},
   "source": [
    "# Train  Models"
   ]
  },
  {
   "cell_type": "code",
   "execution_count": 37,
   "id": "84782104",
   "metadata": {},
   "outputs": [],
   "source": [
    "from sklearn.linear_model import LogisticRegression\n",
    "from sklearn.tree import DecisionTreeClassifier\n",
    "from sklearn.ensemble import RandomForestClassifier\n",
    "from sklearn.naive_bayes import GaussianNB\n",
    "from sklearn.neighbors import KNeighborsClassifier\n",
    "from sklearn.model_selection import GridSearchCV\n",
    "from sklearn.dummy import DummyClassifier\n",
    "from sklearn.cluster import KMeans"
   ]
  },
  {
   "cell_type": "code",
   "execution_count": 38,
   "id": "553cc85b",
   "metadata": {
    "scrolled": true
   },
   "outputs": [
    {
     "name": "stderr",
     "output_type": "stream",
     "text": [
      "/Users/dannykang/opt/anaconda3/envs/webscrap/lib/python3.9/site-packages/sklearn/linear_model/_logistic.py:814: ConvergenceWarning: lbfgs failed to converge (status=1):\n",
      "STOP: TOTAL NO. of ITERATIONS REACHED LIMIT.\n",
      "\n",
      "Increase the number of iterations (max_iter) or scale the data as shown in:\n",
      "    https://scikit-learn.org/stable/modules/preprocessing.html\n",
      "Please also refer to the documentation for alternative solver options:\n",
      "    https://scikit-learn.org/stable/modules/linear_model.html#logistic-regression\n",
      "  n_iter_i = _check_optimize_result(\n"
     ]
    }
   ],
   "source": [
    "## Dummy Classification\n",
    "dummy_model = DummyClassifier().fit(train_X, train_Y)\n",
    "lr = LogisticRegression().fit(train_X, train_Y)\n",
    "dt = DecisionTreeClassifier().fit(train_X,train_Y)\n",
    "knn = KNeighborsClassifier().fit(train_X,train_Y)\n",
    "nb = GaussianNB().fit(train_X, train_Y)\n",
    "km = KMeans(n_clusters=2).fit(train_X,train_Y)"
   ]
  },
  {
   "cell_type": "code",
   "execution_count": null,
   "id": "e5c99070",
   "metadata": {},
   "outputs": [],
   "source": []
  },
  {
   "cell_type": "code",
   "execution_count": null,
   "id": "052279a3",
   "metadata": {},
   "outputs": [],
   "source": []
  },
  {
   "cell_type": "code",
   "execution_count": 36,
   "id": "9f669ee1",
   "metadata": {},
   "outputs": [],
   "source": [
    "dum_pred = dummy_model.predict(valid_X)\n",
    "lr_pred = lr.predict(valid_X)\n",
    "dt_pred = dt.predict(valid_X)\n",
    "knn_pred = knn.predict(valid_X)\n",
    "nb_pred = nb.predict(valid_X)"
   ]
  },
  {
   "cell_type": "code",
   "execution_count": 37,
   "id": "2c8fe9d2",
   "metadata": {},
   "outputs": [],
   "source": [
    "dum_val_prob = dummy_model.predict_proba(valid_X)\n",
    "lr__val_prob = lr.predict_proba(valid_X)\n",
    "dt__val_prob = dt.predict_proba(valid_X)\n",
    "knn__val_prob = knn.predict_proba(valid_X)\n",
    "nb__val_prob = nb.predict_proba(valid_X)\n"
   ]
  },
  {
   "cell_type": "markdown",
   "id": "5e862271",
   "metadata": {},
   "source": [
    "# Evaluate"
   ]
  },
  {
   "cell_type": "code",
   "execution_count": 38,
   "id": "10da9e94",
   "metadata": {},
   "outputs": [
    {
     "name": "stdout",
     "output_type": "stream",
     "text": [
      "================DUMMY MODEL================\n",
      "Accuracy Score: 0.5167668017325695\n",
      "================LR MODEL================\n",
      "Accuracy Score: 0.8745982953751572\n",
      "================DT MODEL================\n",
      "Accuracy Score: 0.8893391085650412\n",
      "================KNN MODEL================\n",
      "Accuracy Score: 0.9006566997345257\n",
      "================NB MODEL================\n",
      "Accuracy Score: 0.8091379069442504\n"
     ]
    }
   ],
   "source": [
    "y_val = valid_Y.values\n",
    "print(\"================DUMMY MODEL================\")\n",
    "print(\"Accuracy Score: {}\".format(accuracy_score(y_val, dum_pred)))\n",
    "print(\"================LR MODEL================\")\n",
    "print(\"Accuracy Score: {}\".format(accuracy_score(y_val, lr_pred)))\n",
    "print(\"================DT MODEL================\")\n",
    "print(\"Accuracy Score: {}\".format(accuracy_score(y_val, dt_pred)))\n",
    "\n",
    "print(\"================KNN MODEL================\")\n",
    "print(\"Accuracy Score: {}\".format(accuracy_score(y_val, knn_pred)))\n",
    "\n",
    "print(\"================NB MODEL================\")\n",
    "print(\"Accuracy Score: {}\".format(accuracy_score(y_val, nb_pred)))"
   ]
  },
  {
   "cell_type": "code",
   "execution_count": null,
   "id": "9cc3fd14",
   "metadata": {},
   "outputs": [],
   "source": []
  },
  {
   "cell_type": "markdown",
   "id": "276e344c",
   "metadata": {},
   "source": [
    "# Test Results"
   ]
  },
  {
   "cell_type": "code",
   "execution_count": 39,
   "id": "ffcf2b38",
   "metadata": {
    "scrolled": true
   },
   "outputs": [],
   "source": [
    "test_dum = dummy_model.predict(test_X)\n",
    "test_lr = lr.predict(test_X)\n",
    "test_dt = dt.predict(test_X)\n",
    "test_knn = knn.predict(test_X)\n",
    "test_nb = nb.predict(test_X)"
   ]
  },
  {
   "cell_type": "code",
   "execution_count": 40,
   "id": "a3e7e788",
   "metadata": {},
   "outputs": [
    {
     "name": "stdout",
     "output_type": "stream",
     "text": [
      "================DUMMY MODEL================\n",
      "Accuracy Score: 0.48987108655616945\n",
      "================LR MODEL================\n",
      "Accuracy Score: 0.9484346224677717\n",
      "================DT MODEL================\n",
      "Accuracy Score: 0.9668508287292817\n",
      "================KNN MODEL================\n",
      "Accuracy Score: 0.9484346224677717\n",
      "================NB MODEL================\n",
      "Accuracy Score: 0.860036832412523\n"
     ]
    }
   ],
   "source": [
    "y_test = test_Y.values\n",
    "print(\"================DUMMY MODEL================\")\n",
    "print(\"Accuracy Score: {}\".format(accuracy_score(y_test, test_dum)))\n",
    "print(\"================LR MODEL================\")\n",
    "print(\"Accuracy Score: {}\".format(accuracy_score(y_test, test_lr)))\n",
    "print(\"================DT MODEL================\")\n",
    "print(\"Accuracy Score: {}\".format(accuracy_score(y_test, test_dt)))\n",
    "\n",
    "print(\"================KNN MODEL================\")\n",
    "print(\"Accuracy Score: {}\".format(accuracy_score(y_test, test_knn)))\n",
    "print(\"================NB MODEL================\")\n",
    "print(\"Accuracy Score: {}\".format(accuracy_score(y_test, test_nb)))"
   ]
  },
  {
   "cell_type": "markdown",
   "id": "64b020aa",
   "metadata": {},
   "source": [
    "### Confusion Matrix"
   ]
  },
  {
   "cell_type": "code",
   "execution_count": 41,
   "id": "41d1cc94",
   "metadata": {},
   "outputs": [
    {
     "name": "stdout",
     "output_type": "stream",
     "text": [
      "Dummy Model\n",
      "Predicted    0\n",
      "Actual        \n",
      "0          1.0\n",
      "1          1.0\n",
      "All        1.0\n",
      "LogisticRegression\n",
      "Predicted         0         1\n",
      "Actual                       \n",
      "0          0.954887  0.045113\n",
      "1          0.057762  0.942238\n",
      "All        0.497238  0.502762\n",
      "Decision Tree\n",
      "Predicted         0         1\n",
      "Actual                       \n",
      "0          0.969925  0.030075\n",
      "1          0.036101  0.963899\n",
      "All        0.493554  0.506446\n",
      "KNN\n",
      "Predicted         0         1\n",
      "Actual                       \n",
      "0          0.958647  0.041353\n",
      "1          0.061372  0.938628\n",
      "All        0.500921  0.499079\n",
      "Gaussian NB Regression\n",
      "Predicted         0         1\n",
      "Actual                       \n",
      "0          0.751880  0.248120\n",
      "1          0.036101  0.963899\n",
      "All        0.386740  0.613260\n"
     ]
    }
   ],
   "source": [
    "print(\"Dummy Model\")\n",
    "print(pd.crosstab(y_test, test_dum, rownames=['Actual'], colnames=['Predicted'],margins=True,normalize='index'))\n",
    "print(\"LogisticRegression\")\n",
    "print(pd.crosstab(y_test, test_lr, rownames=['Actual'], colnames=['Predicted'],margins=True,normalize='index'))\n",
    "print(\"Decision Tree\")\n",
    "print(pd.crosstab(y_test, test_dt, rownames=['Actual'], colnames=['Predicted'],margins=True,normalize='index'))\n",
    "print(\"KNN\")\n",
    "print(pd.crosstab(y_test, test_knn, rownames=['Actual'], colnames=['Predicted'],margins=True,normalize='index'))\n",
    "print(\"Gaussian NB Regression\")\n",
    "print(pd.crosstab(y_test, test_nb, rownames=['Actual'], colnames=['Predicted'],margins=True,normalize='index'))"
   ]
  },
  {
   "cell_type": "markdown",
   "id": "50dd9d51",
   "metadata": {},
   "source": [
    "# PR Curve Optimization"
   ]
  },
  {
   "cell_type": "code",
   "execution_count": 42,
   "id": "1c0a1c36",
   "metadata": {},
   "outputs": [],
   "source": [
    "lr_val_prob = lr.predict_proba(valid_X)\n",
    "dt_val_prob = dt.predict_proba(valid_X)\n",
    "knn_val_prob = knn.predict_proba(valid_X)\n",
    "nb_val_prob = nb.predict_proba(valid_X)"
   ]
  },
  {
   "cell_type": "code",
   "execution_count": null,
   "id": "d3f2a096",
   "metadata": {},
   "outputs": [],
   "source": []
  },
  {
   "cell_type": "code",
   "execution_count": null,
   "id": "20023277",
   "metadata": {},
   "outputs": [],
   "source": []
  },
  {
   "cell_type": "code",
   "execution_count": 43,
   "id": "7db38ae0",
   "metadata": {},
   "outputs": [],
   "source": [
    "prec_lr, rec_lr, proba_lr = precision_recall_curve(valid_Y, lr_val_prob[:,-1])\n",
    "prec_dt, rec_dt, proba_dt = precision_recall_curve(valid_Y, dt_val_prob[:,-1])\n",
    "prec_knn, rec_knn, proba_knn = precision_recall_curve(valid_Y, knn_val_prob[:,-1])\n",
    "prec_nb, rec_nb, proba_nb = precision_recall_curve(valid_Y, nb_val_prob[:,-1])"
   ]
  },
  {
   "cell_type": "code",
   "execution_count": 44,
   "id": "5515da89",
   "metadata": {
    "scrolled": false
   },
   "outputs": [
    {
     "name": "stderr",
     "output_type": "stream",
     "text": [
      "/Users/dannykang/opt/anaconda3/envs/webscrap/lib/python3.9/site-packages/sklearn/utils/deprecation.py:87: FutureWarning: Function plot_precision_recall_curve is deprecated; Function `plot_precision_recall_curve` is deprecated in 1.0 and will be removed in 1.2. Use one of the class methods: PrecisionRecallDisplay.from_predictions or PrecisionRecallDisplay.from_estimator.\n",
      "  warnings.warn(msg, category=FutureWarning)\n"
     ]
    },
    {
     "data": {
      "image/png": "[encoded data removed]",
      "text/plain": [
       "<Figure size 432x288 with 1 Axes>"
      ]
     },
     "metadata": {
      "needs_background": "light"
     },
     "output_type": "display_data"
    },
    {
     "name": "stderr",
     "output_type": "stream",
     "text": [
      "/Users/dannykang/opt/anaconda3/envs/webscrap/lib/python3.9/site-packages/sklearn/utils/deprecation.py:87: FutureWarning: Function plot_precision_recall_curve is deprecated; Function `plot_precision_recall_curve` is deprecated in 1.0 and will be removed in 1.2. Use one of the class methods: PrecisionRecallDisplay.from_predictions or PrecisionRecallDisplay.from_estimator.\n",
      "  warnings.warn(msg, category=FutureWarning)\n"
     ]
    },
    {
     "data": {
      "image/png": "[encoded data removed]",
      "text/plain": [
       "<Figure size 432x288 with 1 Axes>"
      ]
     },
     "metadata": {
      "needs_background": "light"
     },
     "output_type": "display_data"
    },
    {
     "name": "stderr",
     "output_type": "stream",
     "text": [
      "/Users/dannykang/opt/anaconda3/envs/webscrap/lib/python3.9/site-packages/sklearn/utils/deprecation.py:87: FutureWarning: Function plot_precision_recall_curve is deprecated; Function `plot_precision_recall_curve` is deprecated in 1.0 and will be removed in 1.2. Use one of the class methods: PrecisionRecallDisplay.from_predictions or PrecisionRecallDisplay.from_estimator.\n",
      "  warnings.warn(msg, category=FutureWarning)\n"
     ]
    },
    {
     "data": {
      "image/png": "[encoded data removed]",
      "text/plain": [
       "<Figure size 432x288 with 1 Axes>"
      ]
     },
     "metadata": {
      "needs_background": "light"
     },
     "output_type": "display_data"
    },
    {
     "name": "stderr",
     "output_type": "stream",
     "text": [
      "/Users/dannykang/opt/anaconda3/envs/webscrap/lib/python3.9/site-packages/sklearn/utils/deprecation.py:87: FutureWarning: Function plot_precision_recall_curve is deprecated; Function `plot_precision_recall_curve` is deprecated in 1.0 and will be removed in 1.2. Use one of the class methods: PrecisionRecallDisplay.from_predictions or PrecisionRecallDisplay.from_estimator.\n",
      "  warnings.warn(msg, category=FutureWarning)\n"
     ]
    },
    {
     "data": {
      "image/png": "[encoded data removed]",
      "text/plain": [
       "<Figure size 432x288 with 1 Axes>"
      ]
     },
     "metadata": {
      "needs_background": "light"
     },
     "output_type": "display_data"
    }
   ],
   "source": [
    "disp = plot_precision_recall_curve(lr, valid_X, valid_Y)\n",
    "disp.ax_.set_title('Precision-Recall curve - Log Res')\n",
    "plt.show()\n",
    "plt.close()\n",
    "disp = plot_precision_recall_curve(dt, valid_X, valid_Y)\n",
    "disp.ax_.set_title('Precision-Recall curve - DT')\n",
    "plt.show()\n",
    "plt.close()\n",
    "disp = plot_precision_recall_curve(nb, valid_X, valid_Y)\n",
    "disp.ax_.set_title('Precision-Recall curve - NB')\n",
    "plt.show()\n",
    "plt.close()\n",
    "\n",
    "disp = plot_precision_recall_curve(knn, valid_X, valid_Y)\n",
    "disp.ax_.set_title('Precision-Recall curve - KNN')\n",
    "plt.show()\n",
    "plt.close()"
   ]
  },
  {
   "cell_type": "markdown",
   "id": "c4508c03",
   "metadata": {},
   "source": [
    "### Optimal Cutoff"
   ]
  },
  {
   "cell_type": "code",
   "execution_count": 48,
   "id": "437ad07e",
   "metadata": {},
   "outputs": [],
   "source": [
    "optimal_cutoff_lr = sorted(list(zip(np.abs(prec_lr - rec_lr), proba_lr)), key=lambda i: i[0], reverse=False)[0][1]\n",
    "roc_pred_lr = [1 if i >= optimal_cutoff_lr else 0 for i in lr_val_prob[:, -1]]\n",
    "optimal_cutoff_lr = sorted(list(zip(np.abs(prec_lr - rec_lr), proba_lr)), key=lambda i: i[0], reverse=False)[0][1]\n",
    "roc_pred_lr = [1 if i >= optimal_cutoff_lr else 0 for i in lr_val_prob[:, -1]]\n",
    "optimal_cutoff_dt = sorted(list(zip(np.abs(prec_dt - rec_dt), proba_dt)), key=lambda i: i[0], reverse=False)[0][1]\n",
    "roc_pred_dt = [1 if i >= optimal_cutoff_dt else 0 for i in dt_val_prob[:, -1]]\n",
    "optimal_cutoff_nb = sorted(list(zip(np.abs(prec_nb - rec_nb), proba_nb)), key=lambda i: i[0], reverse=False)[0][1]\n",
    "roc_pred_nb = [1 if i >= optimal_cutoff_nb else 0 for i in nb_val_prob[:, -1]]\n",
    "optimal_cutoff_knn = sorted(list(zip(np.abs(prec_knn - rec_knn), proba_knn)), key=lambda i: i[0], reverse=False)[0][1]\n",
    "roc_pred_knn = [1 if i >= optimal_cutoff_knn else 0 for i in knn_val_prob[:, -1]]"
   ]
  },
  {
   "cell_type": "markdown",
   "id": "f0cbe3f9",
   "metadata": {},
   "source": [
    "# Evaluation after thresholding"
   ]
  },
  {
   "cell_type": "code",
   "execution_count": 49,
   "id": "f93fdc4f",
   "metadata": {},
   "outputs": [
    {
     "name": "stdout",
     "output_type": "stream",
     "text": [
      "Logistic Regression\n",
      "Accuracy Score Before and After Thresholding: 0.8745982953751572, 0.8774626240044712\n",
      "Precision Score Before and After Thresholding: 0.8903963414634146, 0.8732109295937546\n",
      "Recall Score Before and After Thresholding: 0.8444412317478676, 0.8732109295937546\n",
      "F1 Score Before and After Thresholding: 0.8668101209467982, 0.8732109295937546\n"
     ]
    }
   ],
   "source": [
    "print(\"Logistic Regression\")\n",
    "print(\"Accuracy Score Before and After Thresholding: {}, {}\".format(accuracy_score(valid_Y, lr_pred), accuracy_score(valid_Y, roc_pred_lr)))\n",
    "print(\"Precision Score Before and After Thresholding: {}, {}\".format(precision_score(valid_Y, lr_pred), precision_score(valid_Y, roc_pred_lr)))\n",
    "print(\"Recall Score Before and After Thresholding: {}, {}\".format(recall_score(valid_Y, lr_pred), recall_score(valid_Y, roc_pred_lr)))\n",
    "print(\"F1 Score Before and After Thresholding: {}, {}\".format(f1_score(valid_Y, lr_pred), f1_score(valid_Y, roc_pred_lr)))"
   ]
  },
  {
   "cell_type": "code",
   "execution_count": 50,
   "id": "4e2dbe5e",
   "metadata": {},
   "outputs": [
    {
     "name": "stdout",
     "output_type": "stream",
     "text": [
      "Decision Tree Regression\n",
      "Accuracy Score Before and After Thresholding: 0.8893391085650412, 0.8922034371943551\n",
      "Precision Score Before and After Thresholding: 0.9006761833208115, 0.8763305322128851\n",
      "Recall Score Before and After Thresholding: 0.8665606476796299, 0.9045829116669076\n",
      "F1 Score Before and After Thresholding: 0.883289124668435, 0.8902326243152877\n"
     ]
    }
   ],
   "source": [
    "print(\"Decision Tree Regression\")\n",
    "print(\"Accuracy Score Before and After Thresholding: {}, {}\".format(accuracy_score(valid_Y, dt_pred), accuracy_score(valid_Y, roc_pred_dt)))\n",
    "print(\"Precision Score Before and After Thresholding: {}, {}\".format(precision_score(valid_Y, dt_pred), precision_score(valid_Y, roc_pred_dt)))\n",
    "print(\"Recall Score Before and After Thresholding: {}, {}\".format(recall_score(valid_Y, dt_pred), recall_score(valid_Y, roc_pred_dt)))\n",
    "print(\"F1 Score Before and After Thresholding: {}, {}\".format(f1_score(valid_Y, dt_pred), f1_score(valid_Y, roc_pred_dt)))"
   ]
  },
  {
   "cell_type": "code",
   "execution_count": 51,
   "id": "2fd1ee62",
   "metadata": {},
   "outputs": [
    {
     "name": "stdout",
     "output_type": "stream",
     "text": [
      "NB\n",
      "Accuracy Score Before and After Thresholding: 0.8091379069442504, 0.8094173536397932\n",
      "Precision Score Before and After Thresholding: 0.7301220719234576, 0.7304433931125537\n",
      "Recall Score Before and After Thresholding: 0.9598091658233339, 0.9598091658233339\n",
      "F1 Score Before and After Thresholding: 0.8293566520924421, 0.8295639135324254\n"
     ]
    }
   ],
   "source": [
    "print(\"NB\")\n",
    "print(\"Accuracy Score Before and After Thresholding: {}, {}\".format(accuracy_score(valid_Y, nb_pred), accuracy_score(valid_Y, roc_pred_nb)))\n",
    "print(\"Precision Score Before and After Thresholding: {}, {}\".format(precision_score(valid_Y, nb_pred), precision_score(valid_Y, roc_pred_nb)))\n",
    "print(\"Recall Score Before and After Thresholding: {}, {}\".format(recall_score(valid_Y, nb_pred), recall_score(valid_Y, roc_pred_nb)))\n",
    "print(\"F1 Score Before and After Thresholding: {}, {}\".format(f1_score(valid_Y, nb_pred), f1_score(valid_Y, roc_pred_nb)))"
   ]
  },
  {
   "cell_type": "code",
   "execution_count": 52,
   "id": "7ba975e3",
   "metadata": {
    "scrolled": true
   },
   "outputs": [
    {
     "name": "stdout",
     "output_type": "stream",
     "text": [
      "KNN\n",
      "Accuracy Score Before and After Thresholding: 0.9006566997345257, 0.9006566997345257\n",
      "Precision Score Before and After Thresholding: 0.9029183164686905, 0.9029183164686905\n",
      "Recall Score Before and After Thresholding: 0.8901257770709845, 0.8901257770709845\n",
      "F1 Score Before and After Thresholding: 0.8964764123471172, 0.8964764123471172\n"
     ]
    }
   ],
   "source": [
    "print(\"KNN\")\n",
    "print(\"Accuracy Score Before and After Thresholding: {}, {}\".format(accuracy_score(valid_Y, knn_pred), accuracy_score(valid_Y, roc_pred_knn)))\n",
    "print(\"Precision Score Before and After Thresholding: {}, {}\".format(precision_score(valid_Y, knn_pred), precision_score(valid_Y, roc_pred_knn)))\n",
    "print(\"Recall Score Before and After Thresholding: {}, {}\".format(recall_score(valid_Y, knn_pred), recall_score(valid_Y, roc_pred_knn)))\n",
    "print(\"F1 Score Before and After Thresholding: {}, {}\".format(f1_score(valid_Y, knn_pred), f1_score(valid_Y, roc_pred_knn)))"
   ]
  },
  {
   "cell_type": "code",
   "execution_count": null,
   "id": "81156c0a",
   "metadata": {},
   "outputs": [],
   "source": []
  }
 ],
 "metadata": {
  "kernelspec": {
   "display_name": "Python 3 (ipykernel)",
   "language": "python",
   "name": "python3"
  },
  "language_info": {
   "codemirror_mode": {
    "name": "ipython",
    "version": 3
   },
   "file_extension": ".py",
   "mimetype": "text/x-python",
   "name": "python",
   "nbconvert_exporter": "python",
   "pygments_lexer": "ipython3",
   "version": "3.9.7"
  },
  "toc": {
   "base_numbering": 1,
   "nav_menu": {},
   "number_sections": true,
   "sideBar": true,
   "skip_h1_title": false,
   "title_cell": "Table of Contents",
   "title_sidebar": "Contents",
   "toc_cell": false,
   "toc_position": {},
   "toc_section_display": true,
   "toc_window_display": true
  }
 },
 "nbformat": 4,
 "nbformat_minor": 5
}
